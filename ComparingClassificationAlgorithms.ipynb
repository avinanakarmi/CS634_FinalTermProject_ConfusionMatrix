{
 "cells": [
  {
   "cell_type": "code",
   "execution_count": 1,
   "metadata": {
    "id": "2aip_wSf3IKU"
   },
   "outputs": [],
   "source": [
    "import pandas as pd\n",
    "import matplotlib.pyplot as plt\n",
    "import seaborn as sns"
   ]
  },
  {
   "cell_type": "markdown",
   "metadata": {
    "id": "LcdYP25d44Pw"
   },
   "source": [
    "# Data Exploration and Preprocessing"
   ]
  },
  {
   "cell_type": "code",
   "execution_count": 2,
   "metadata": {
    "colab": {
     "base_uri": "https://localhost:8080/",
     "height": 300
    },
    "id": "645GjhE4u2XZ",
    "outputId": "6b5576a9-f1c7-411c-a40b-5445efdc237f"
   },
   "outputs": [
    {
     "data": {
      "text/html": [
       "<div>\n",
       "<style scoped>\n",
       "    .dataframe tbody tr th:only-of-type {\n",
       "        vertical-align: middle;\n",
       "    }\n",
       "\n",
       "    .dataframe tbody tr th {\n",
       "        vertical-align: top;\n",
       "    }\n",
       "\n",
       "    .dataframe thead th {\n",
       "        text-align: right;\n",
       "    }\n",
       "</style>\n",
       "<table border=\"1\" class=\"dataframe\">\n",
       "  <thead>\n",
       "    <tr style=\"text-align: right;\">\n",
       "      <th></th>\n",
       "      <th>fixed acidity</th>\n",
       "      <th>volatile acidity</th>\n",
       "      <th>citric acid</th>\n",
       "      <th>residual sugar</th>\n",
       "      <th>chlorides</th>\n",
       "      <th>free sulfur dioxide</th>\n",
       "      <th>total sulfur dioxide</th>\n",
       "      <th>density</th>\n",
       "      <th>pH</th>\n",
       "      <th>sulphates</th>\n",
       "      <th>alcohol</th>\n",
       "      <th>quality</th>\n",
       "    </tr>\n",
       "  </thead>\n",
       "  <tbody>\n",
       "    <tr>\n",
       "      <th>count</th>\n",
       "      <td>6497.000000</td>\n",
       "      <td>6497.000000</td>\n",
       "      <td>6497.000000</td>\n",
       "      <td>6497.000000</td>\n",
       "      <td>6497.000000</td>\n",
       "      <td>6497.000000</td>\n",
       "      <td>6497.000000</td>\n",
       "      <td>6497.000000</td>\n",
       "      <td>6497.000000</td>\n",
       "      <td>6497.000000</td>\n",
       "      <td>6497.000000</td>\n",
       "      <td>6497.000000</td>\n",
       "    </tr>\n",
       "    <tr>\n",
       "      <th>mean</th>\n",
       "      <td>7.215307</td>\n",
       "      <td>0.339666</td>\n",
       "      <td>0.318633</td>\n",
       "      <td>5.443235</td>\n",
       "      <td>0.056034</td>\n",
       "      <td>30.525319</td>\n",
       "      <td>115.744574</td>\n",
       "      <td>0.994697</td>\n",
       "      <td>3.218501</td>\n",
       "      <td>0.531268</td>\n",
       "      <td>10.491801</td>\n",
       "      <td>5.818378</td>\n",
       "    </tr>\n",
       "    <tr>\n",
       "      <th>std</th>\n",
       "      <td>1.296434</td>\n",
       "      <td>0.164636</td>\n",
       "      <td>0.145318</td>\n",
       "      <td>4.757804</td>\n",
       "      <td>0.035034</td>\n",
       "      <td>17.749400</td>\n",
       "      <td>56.521855</td>\n",
       "      <td>0.002999</td>\n",
       "      <td>0.160787</td>\n",
       "      <td>0.148806</td>\n",
       "      <td>1.192712</td>\n",
       "      <td>0.873255</td>\n",
       "    </tr>\n",
       "    <tr>\n",
       "      <th>min</th>\n",
       "      <td>3.800000</td>\n",
       "      <td>0.080000</td>\n",
       "      <td>0.000000</td>\n",
       "      <td>0.600000</td>\n",
       "      <td>0.009000</td>\n",
       "      <td>1.000000</td>\n",
       "      <td>6.000000</td>\n",
       "      <td>0.987110</td>\n",
       "      <td>2.720000</td>\n",
       "      <td>0.220000</td>\n",
       "      <td>8.000000</td>\n",
       "      <td>3.000000</td>\n",
       "    </tr>\n",
       "    <tr>\n",
       "      <th>25%</th>\n",
       "      <td>6.400000</td>\n",
       "      <td>0.230000</td>\n",
       "      <td>0.250000</td>\n",
       "      <td>1.800000</td>\n",
       "      <td>0.038000</td>\n",
       "      <td>17.000000</td>\n",
       "      <td>77.000000</td>\n",
       "      <td>0.992340</td>\n",
       "      <td>3.110000</td>\n",
       "      <td>0.430000</td>\n",
       "      <td>9.500000</td>\n",
       "      <td>5.000000</td>\n",
       "    </tr>\n",
       "    <tr>\n",
       "      <th>50%</th>\n",
       "      <td>7.000000</td>\n",
       "      <td>0.290000</td>\n",
       "      <td>0.310000</td>\n",
       "      <td>3.000000</td>\n",
       "      <td>0.047000</td>\n",
       "      <td>29.000000</td>\n",
       "      <td>118.000000</td>\n",
       "      <td>0.994890</td>\n",
       "      <td>3.210000</td>\n",
       "      <td>0.510000</td>\n",
       "      <td>10.300000</td>\n",
       "      <td>6.000000</td>\n",
       "    </tr>\n",
       "    <tr>\n",
       "      <th>75%</th>\n",
       "      <td>7.700000</td>\n",
       "      <td>0.400000</td>\n",
       "      <td>0.390000</td>\n",
       "      <td>8.100000</td>\n",
       "      <td>0.065000</td>\n",
       "      <td>41.000000</td>\n",
       "      <td>156.000000</td>\n",
       "      <td>0.996990</td>\n",
       "      <td>3.320000</td>\n",
       "      <td>0.600000</td>\n",
       "      <td>11.300000</td>\n",
       "      <td>6.000000</td>\n",
       "    </tr>\n",
       "    <tr>\n",
       "      <th>max</th>\n",
       "      <td>15.900000</td>\n",
       "      <td>1.580000</td>\n",
       "      <td>1.660000</td>\n",
       "      <td>65.800000</td>\n",
       "      <td>0.611000</td>\n",
       "      <td>289.000000</td>\n",
       "      <td>440.000000</td>\n",
       "      <td>1.038980</td>\n",
       "      <td>4.010000</td>\n",
       "      <td>2.000000</td>\n",
       "      <td>14.900000</td>\n",
       "      <td>9.000000</td>\n",
       "    </tr>\n",
       "  </tbody>\n",
       "</table>\n",
       "</div>"
      ],
      "text/plain": [
       "       fixed acidity  volatile acidity  citric acid  residual sugar  \\\n",
       "count    6497.000000       6497.000000  6497.000000     6497.000000   \n",
       "mean        7.215307          0.339666     0.318633        5.443235   \n",
       "std         1.296434          0.164636     0.145318        4.757804   \n",
       "min         3.800000          0.080000     0.000000        0.600000   \n",
       "25%         6.400000          0.230000     0.250000        1.800000   \n",
       "50%         7.000000          0.290000     0.310000        3.000000   \n",
       "75%         7.700000          0.400000     0.390000        8.100000   \n",
       "max        15.900000          1.580000     1.660000       65.800000   \n",
       "\n",
       "         chlorides  free sulfur dioxide  total sulfur dioxide      density  \\\n",
       "count  6497.000000          6497.000000           6497.000000  6497.000000   \n",
       "mean      0.056034            30.525319            115.744574     0.994697   \n",
       "std       0.035034            17.749400             56.521855     0.002999   \n",
       "min       0.009000             1.000000              6.000000     0.987110   \n",
       "25%       0.038000            17.000000             77.000000     0.992340   \n",
       "50%       0.047000            29.000000            118.000000     0.994890   \n",
       "75%       0.065000            41.000000            156.000000     0.996990   \n",
       "max       0.611000           289.000000            440.000000     1.038980   \n",
       "\n",
       "                pH    sulphates      alcohol      quality  \n",
       "count  6497.000000  6497.000000  6497.000000  6497.000000  \n",
       "mean      3.218501     0.531268    10.491801     5.818378  \n",
       "std       0.160787     0.148806     1.192712     0.873255  \n",
       "min       2.720000     0.220000     8.000000     3.000000  \n",
       "25%       3.110000     0.430000     9.500000     5.000000  \n",
       "50%       3.210000     0.510000    10.300000     6.000000  \n",
       "75%       3.320000     0.600000    11.300000     6.000000  \n",
       "max       4.010000     2.000000    14.900000     9.000000  "
      ]
     },
     "execution_count": 2,
     "metadata": {},
     "output_type": "execute_result"
    }
   ],
   "source": [
    "red_wine_data = pd.read_csv(\"./wine+quality/winequality-red.csv\", sep=\";\")\n",
    "white_wine_data = pd.read_csv(\"./wine+quality/winequality-white.csv\", sep=\";\")\n",
    "data = pd.concat([red_wine_data, white_wine_data])\n",
    "\n",
    "data.describe()"
   ]
  },
  {
   "cell_type": "code",
   "execution_count": 3,
   "metadata": {
    "colab": {
     "base_uri": "https://localhost:8080/",
     "height": 206
    },
    "id": "wdT1eCOKRlfP",
    "outputId": "7d7a512f-7a26-4fd9-9f52-419e4211c214"
   },
   "outputs": [
    {
     "data": {
      "text/html": [
       "<div>\n",
       "<style scoped>\n",
       "    .dataframe tbody tr th:only-of-type {\n",
       "        vertical-align: middle;\n",
       "    }\n",
       "\n",
       "    .dataframe tbody tr th {\n",
       "        vertical-align: top;\n",
       "    }\n",
       "\n",
       "    .dataframe thead th {\n",
       "        text-align: right;\n",
       "    }\n",
       "</style>\n",
       "<table border=\"1\" class=\"dataframe\">\n",
       "  <thead>\n",
       "    <tr style=\"text-align: right;\">\n",
       "      <th></th>\n",
       "      <th>fixed acidity</th>\n",
       "      <th>volatile acidity</th>\n",
       "      <th>citric acid</th>\n",
       "      <th>residual sugar</th>\n",
       "      <th>chlorides</th>\n",
       "      <th>free sulfur dioxide</th>\n",
       "      <th>total sulfur dioxide</th>\n",
       "      <th>density</th>\n",
       "      <th>pH</th>\n",
       "      <th>sulphates</th>\n",
       "      <th>alcohol</th>\n",
       "      <th>quality</th>\n",
       "    </tr>\n",
       "  </thead>\n",
       "  <tbody>\n",
       "    <tr>\n",
       "      <th>4893</th>\n",
       "      <td>6.2</td>\n",
       "      <td>0.21</td>\n",
       "      <td>0.29</td>\n",
       "      <td>1.6</td>\n",
       "      <td>0.039</td>\n",
       "      <td>24.0</td>\n",
       "      <td>92.0</td>\n",
       "      <td>0.99114</td>\n",
       "      <td>3.27</td>\n",
       "      <td>0.50</td>\n",
       "      <td>11.2</td>\n",
       "      <td>6</td>\n",
       "    </tr>\n",
       "    <tr>\n",
       "      <th>4894</th>\n",
       "      <td>6.6</td>\n",
       "      <td>0.32</td>\n",
       "      <td>0.36</td>\n",
       "      <td>8.0</td>\n",
       "      <td>0.047</td>\n",
       "      <td>57.0</td>\n",
       "      <td>168.0</td>\n",
       "      <td>0.99490</td>\n",
       "      <td>3.15</td>\n",
       "      <td>0.46</td>\n",
       "      <td>9.6</td>\n",
       "      <td>5</td>\n",
       "    </tr>\n",
       "    <tr>\n",
       "      <th>4895</th>\n",
       "      <td>6.5</td>\n",
       "      <td>0.24</td>\n",
       "      <td>0.19</td>\n",
       "      <td>1.2</td>\n",
       "      <td>0.041</td>\n",
       "      <td>30.0</td>\n",
       "      <td>111.0</td>\n",
       "      <td>0.99254</td>\n",
       "      <td>2.99</td>\n",
       "      <td>0.46</td>\n",
       "      <td>9.4</td>\n",
       "      <td>6</td>\n",
       "    </tr>\n",
       "    <tr>\n",
       "      <th>4896</th>\n",
       "      <td>5.5</td>\n",
       "      <td>0.29</td>\n",
       "      <td>0.30</td>\n",
       "      <td>1.1</td>\n",
       "      <td>0.022</td>\n",
       "      <td>20.0</td>\n",
       "      <td>110.0</td>\n",
       "      <td>0.98869</td>\n",
       "      <td>3.34</td>\n",
       "      <td>0.38</td>\n",
       "      <td>12.8</td>\n",
       "      <td>7</td>\n",
       "    </tr>\n",
       "    <tr>\n",
       "      <th>4897</th>\n",
       "      <td>6.0</td>\n",
       "      <td>0.21</td>\n",
       "      <td>0.38</td>\n",
       "      <td>0.8</td>\n",
       "      <td>0.020</td>\n",
       "      <td>22.0</td>\n",
       "      <td>98.0</td>\n",
       "      <td>0.98941</td>\n",
       "      <td>3.26</td>\n",
       "      <td>0.32</td>\n",
       "      <td>11.8</td>\n",
       "      <td>6</td>\n",
       "    </tr>\n",
       "  </tbody>\n",
       "</table>\n",
       "</div>"
      ],
      "text/plain": [
       "      fixed acidity  volatile acidity  citric acid  residual sugar  chlorides  \\\n",
       "4893            6.2              0.21         0.29             1.6      0.039   \n",
       "4894            6.6              0.32         0.36             8.0      0.047   \n",
       "4895            6.5              0.24         0.19             1.2      0.041   \n",
       "4896            5.5              0.29         0.30             1.1      0.022   \n",
       "4897            6.0              0.21         0.38             0.8      0.020   \n",
       "\n",
       "      free sulfur dioxide  total sulfur dioxide  density    pH  sulphates  \\\n",
       "4893                 24.0                  92.0  0.99114  3.27       0.50   \n",
       "4894                 57.0                 168.0  0.99490  3.15       0.46   \n",
       "4895                 30.0                 111.0  0.99254  2.99       0.46   \n",
       "4896                 20.0                 110.0  0.98869  3.34       0.38   \n",
       "4897                 22.0                  98.0  0.98941  3.26       0.32   \n",
       "\n",
       "      alcohol  quality  \n",
       "4893     11.2        6  \n",
       "4894      9.6        5  \n",
       "4895      9.4        6  \n",
       "4896     12.8        7  \n",
       "4897     11.8        6  "
      ]
     },
     "execution_count": 3,
     "metadata": {},
     "output_type": "execute_result"
    }
   ],
   "source": [
    "data.tail()"
   ]
  },
  {
   "cell_type": "markdown",
   "metadata": {},
   "source": [
    "# Data transformation\n",
    "The project requires us to work with binary classification data, wehreas this data set has multiclass classification for the target attribute quality. To align with the project requirements a \"recommended\" attribute is derived from the \"quality\" attribute. If the quality of data item is higher than 6, the wine is recommended i.e, it the recommended attribute has value 1."
   ]
  },
  {
   "cell_type": "code",
   "execution_count": 4,
   "metadata": {},
   "outputs": [],
   "source": [
    "data[\"recommendation\"] = (data[\"quality\"] > 6).astype('int32')\n",
    "data = data.drop(\"quality\", axis=1)"
   ]
  },
  {
   "cell_type": "code",
   "execution_count": 5,
   "metadata": {},
   "outputs": [
    {
     "data": {
      "text/html": [
       "<div>\n",
       "<style scoped>\n",
       "    .dataframe tbody tr th:only-of-type {\n",
       "        vertical-align: middle;\n",
       "    }\n",
       "\n",
       "    .dataframe tbody tr th {\n",
       "        vertical-align: top;\n",
       "    }\n",
       "\n",
       "    .dataframe thead th {\n",
       "        text-align: right;\n",
       "    }\n",
       "</style>\n",
       "<table border=\"1\" class=\"dataframe\">\n",
       "  <thead>\n",
       "    <tr style=\"text-align: right;\">\n",
       "      <th></th>\n",
       "      <th>fixed acidity</th>\n",
       "      <th>volatile acidity</th>\n",
       "      <th>citric acid</th>\n",
       "      <th>residual sugar</th>\n",
       "      <th>chlorides</th>\n",
       "      <th>free sulfur dioxide</th>\n",
       "      <th>total sulfur dioxide</th>\n",
       "      <th>density</th>\n",
       "      <th>pH</th>\n",
       "      <th>sulphates</th>\n",
       "      <th>alcohol</th>\n",
       "      <th>recommendation</th>\n",
       "    </tr>\n",
       "  </thead>\n",
       "  <tbody>\n",
       "    <tr>\n",
       "      <th>4893</th>\n",
       "      <td>6.2</td>\n",
       "      <td>0.21</td>\n",
       "      <td>0.29</td>\n",
       "      <td>1.6</td>\n",
       "      <td>0.039</td>\n",
       "      <td>24.0</td>\n",
       "      <td>92.0</td>\n",
       "      <td>0.99114</td>\n",
       "      <td>3.27</td>\n",
       "      <td>0.50</td>\n",
       "      <td>11.2</td>\n",
       "      <td>0</td>\n",
       "    </tr>\n",
       "    <tr>\n",
       "      <th>4894</th>\n",
       "      <td>6.6</td>\n",
       "      <td>0.32</td>\n",
       "      <td>0.36</td>\n",
       "      <td>8.0</td>\n",
       "      <td>0.047</td>\n",
       "      <td>57.0</td>\n",
       "      <td>168.0</td>\n",
       "      <td>0.99490</td>\n",
       "      <td>3.15</td>\n",
       "      <td>0.46</td>\n",
       "      <td>9.6</td>\n",
       "      <td>0</td>\n",
       "    </tr>\n",
       "    <tr>\n",
       "      <th>4895</th>\n",
       "      <td>6.5</td>\n",
       "      <td>0.24</td>\n",
       "      <td>0.19</td>\n",
       "      <td>1.2</td>\n",
       "      <td>0.041</td>\n",
       "      <td>30.0</td>\n",
       "      <td>111.0</td>\n",
       "      <td>0.99254</td>\n",
       "      <td>2.99</td>\n",
       "      <td>0.46</td>\n",
       "      <td>9.4</td>\n",
       "      <td>0</td>\n",
       "    </tr>\n",
       "    <tr>\n",
       "      <th>4896</th>\n",
       "      <td>5.5</td>\n",
       "      <td>0.29</td>\n",
       "      <td>0.30</td>\n",
       "      <td>1.1</td>\n",
       "      <td>0.022</td>\n",
       "      <td>20.0</td>\n",
       "      <td>110.0</td>\n",
       "      <td>0.98869</td>\n",
       "      <td>3.34</td>\n",
       "      <td>0.38</td>\n",
       "      <td>12.8</td>\n",
       "      <td>1</td>\n",
       "    </tr>\n",
       "    <tr>\n",
       "      <th>4897</th>\n",
       "      <td>6.0</td>\n",
       "      <td>0.21</td>\n",
       "      <td>0.38</td>\n",
       "      <td>0.8</td>\n",
       "      <td>0.020</td>\n",
       "      <td>22.0</td>\n",
       "      <td>98.0</td>\n",
       "      <td>0.98941</td>\n",
       "      <td>3.26</td>\n",
       "      <td>0.32</td>\n",
       "      <td>11.8</td>\n",
       "      <td>0</td>\n",
       "    </tr>\n",
       "  </tbody>\n",
       "</table>\n",
       "</div>"
      ],
      "text/plain": [
       "      fixed acidity  volatile acidity  citric acid  residual sugar  chlorides  \\\n",
       "4893            6.2              0.21         0.29             1.6      0.039   \n",
       "4894            6.6              0.32         0.36             8.0      0.047   \n",
       "4895            6.5              0.24         0.19             1.2      0.041   \n",
       "4896            5.5              0.29         0.30             1.1      0.022   \n",
       "4897            6.0              0.21         0.38             0.8      0.020   \n",
       "\n",
       "      free sulfur dioxide  total sulfur dioxide  density    pH  sulphates  \\\n",
       "4893                 24.0                  92.0  0.99114  3.27       0.50   \n",
       "4894                 57.0                 168.0  0.99490  3.15       0.46   \n",
       "4895                 30.0                 111.0  0.99254  2.99       0.46   \n",
       "4896                 20.0                 110.0  0.98869  3.34       0.38   \n",
       "4897                 22.0                  98.0  0.98941  3.26       0.32   \n",
       "\n",
       "      alcohol  recommendation  \n",
       "4893     11.2               0  \n",
       "4894      9.6               0  \n",
       "4895      9.4               0  \n",
       "4896     12.8               1  \n",
       "4897     11.8               0  "
      ]
     },
     "execution_count": 5,
     "metadata": {},
     "output_type": "execute_result"
    }
   ],
   "source": [
    "data.tail()"
   ]
  },
  {
   "cell_type": "code",
   "execution_count": 6,
   "metadata": {
    "colab": {
     "base_uri": "https://localhost:8080/"
    },
    "id": "pyJ63BKt5Pl3",
    "outputId": "a6d9deb2-fa43-4514-acf9-d1797f2eca84"
   },
   "outputs": [
    {
     "name": "stdout",
     "output_type": "stream",
     "text": [
      "Dataframe shape (6497, 12)\n",
      "\n",
      "Check type of data\n",
      "fixed acidity           float64\n",
      "volatile acidity        float64\n",
      "citric acid             float64\n",
      "residual sugar          float64\n",
      "chlorides               float64\n",
      "free sulfur dioxide     float64\n",
      "total sulfur dioxide    float64\n",
      "density                 float64\n",
      "pH                      float64\n",
      "sulphates               float64\n",
      "alcohol                 float64\n",
      "recommendation            int32\n",
      "dtype: object\n",
      "\n",
      "Check for na\n",
      "fixed acidity           0\n",
      "volatile acidity        0\n",
      "citric acid             0\n",
      "residual sugar          0\n",
      "chlorides               0\n",
      "free sulfur dioxide     0\n",
      "total sulfur dioxide    0\n",
      "density                 0\n",
      "pH                      0\n",
      "sulphates               0\n",
      "alcohol                 0\n",
      "recommendation          0\n",
      "dtype: int64\n"
     ]
    }
   ],
   "source": [
    "print(\"Dataframe shape\", data.shape)\n",
    "print()\n",
    "print(\"Check type of data\")\n",
    "print(data.dtypes)\n",
    "print()\n",
    "print(\"Check for na\")\n",
    "print(data.isna().sum())"
   ]
  },
  {
   "cell_type": "code",
   "execution_count": 7,
   "metadata": {
    "colab": {
     "base_uri": "https://localhost:8080/",
     "height": 448
    },
    "id": "1VwQ1LMv6wT6",
    "outputId": "824c0916-96a9-40db-b611-8a8033b3c99a"
   },
   "outputs": [
    {
     "data": {
      "image/png": "[encoded data removed]",
      "text/plain": [
       "<Figure size 640x480 with 1 Axes>"
      ]
     },
     "metadata": {},
     "output_type": "display_data"
    }
   ],
   "source": [
    "class_dist = data[\"recommendation\"].value_counts().sort_index()\n",
    "plt.pie(class_dist.values, labels=class_dist.index, autopct='%1.1f%%')\n",
    "\n",
    "plt.title(\"Check for imbalanced data\")\n",
    "plt.xlabel('class')\n",
    "plt.ylabel('Count')\n",
    "\n",
    "plt.show()"
   ]
  },
  {
   "cell_type": "code",
   "execution_count": 8,
   "metadata": {
    "colab": {
     "base_uri": "https://localhost:8080/",
     "height": 555
    },
    "id": "Inf7GaKa8s5K",
    "outputId": "c215fe0c-fc35-49a4-93e8-6c0704c34de2"
   },
   "outputs": [
    {
     "data": {
      "image/png": "[encoded data removed]",
      "text/plain": [
       "<Figure size 640x480 with 2 Axes>"
      ]
     },
     "metadata": {},
     "output_type": "display_data"
    }
   ],
   "source": [
    "corr_matrix = data.corr(numeric_only = True)\n",
    "\n",
    "sns.heatmap(corr_matrix, annot=False, cmap='coolwarm')\n",
    "\n",
    "plt.title('Correlation Matrix Heatmap')\n",
    "\n",
    "plt.show()"
   ]
  },
  {
   "cell_type": "code",
   "execution_count": 9,
   "metadata": {
    "colab": {
     "base_uri": "https://localhost:8080/"
    },
    "id": "eE3QtPDuC-BP",
    "outputId": "61e9bec4-bbd6-4f17-fdc5-c99823baccd3"
   },
   "outputs": [
    {
     "name": "stdout",
     "output_type": "stream",
     "text": [
      "                 Feature         VIF\n",
      "0          fixed acidity   58.897405\n",
      "1       volatile acidity    8.943681\n",
      "2            citric acid    9.340251\n",
      "3         residual sugar    3.576148\n",
      "4              chlorides    5.575434\n",
      "5    free sulfur dioxide    8.452180\n",
      "6   total sulfur dioxide   14.732237\n",
      "7                density  936.984064\n",
      "8                     pH  589.005172\n",
      "9              sulphates   18.491253\n",
      "10               alcohol  107.135452\n"
     ]
    }
   ],
   "source": [
    "from statsmodels.stats.outliers_influence import variance_inflation_factor\n",
    "\n",
    "X = data.drop(columns=['recommendation'])\n",
    "\n",
    "vif_data = pd.DataFrame()\n",
    "vif_data['Feature'] = X.columns\n",
    "vif_data['VIF'] = [variance_inflation_factor(X.values, i) for i in range(X.shape[1])]\n",
    "\n",
    "print(vif_data)"
   ]
  },
  {
   "cell_type": "markdown",
   "metadata": {
    "id": "PpgUfIITRzGB"
   },
   "source": [
    "# Model Selection\n",
    "\n",
    "\n",
    "1.   **Decision Trees**:  Even though there is multicollinearity (as shown by VIF values), Decision Trees are not affected by this because they split the data based on single features at each node.\n",
    "2. **Bayesian Networks**: BayNets are generally not highly sensitive to multicollinearity, as they focus on conditional independence between variables rather than direct linear relationships.\n",
    "3.   **Conv1D**: The Conv1D layer applies filters across the input features in a sliding window manner.\n",
    "\n"
   ]
  },
  {
   "cell_type": "markdown",
   "metadata": {
    "id": "ViBETP2w3L2c"
   },
   "source": [
    "# Random Forest"
   ]
  },
  {
   "cell_type": "code",
   "execution_count": 12,
   "metadata": {
    "id": "COzCXdT73N4C"
   },
   "outputs": [],
   "source": [
    "from sklearn.ensemble import RandomForestClassifier\n",
    "\n",
    "rf = RandomForestClassifier()\n",
    "def predict_with_random_forest(X_train, y_train, X_test):\n",
    "  rf.fit(X_train, y_train)\n",
    "\n",
    "  y_pred = rf.predict(X_test)\n",
    "  y_prob = rf.predict_proba(X_test)\n",
    "  return y_pred, y_prob[:,1]"
   ]
  },
  {
   "cell_type": "markdown",
   "metadata": {
    "id": "o6jFwDSo3OMQ"
   },
   "source": [
    "# Decision tree"
   ]
  },
  {
   "cell_type": "code",
   "execution_count": 13,
   "metadata": {
    "id": "Wk_zFJst3YEc"
   },
   "outputs": [],
   "source": [
    "from sklearn.tree import DecisionTreeClassifier\n",
    "\n",
    "dt = DecisionTreeClassifier()\n",
    "def predict_with_decision_tree(X_train, y_train, X_test):\n",
    "  dt.fit(X_train, y_train)\n",
    "\n",
    "  y_pred = dt.predict(X_test)\n",
    "  y_prob = dt.predict_proba(X_test)\n",
    "  return y_pred, y_prob[:,1]"
   ]
  },
  {
   "cell_type": "markdown",
   "metadata": {
    "id": "XcoIZCFL3YPr"
   },
   "source": [
    "# Conv1D"
   ]
  },
  {
   "cell_type": "code",
   "execution_count": 14,
   "metadata": {
    "id": "v1dZ5STD34Qy"
   },
   "outputs": [],
   "source": [
    "from tensorflow.keras.models import Sequential\n",
    "from tensorflow.keras.layers import Conv1D, MaxPooling1D, Flatten, Dense, Dropout\n",
    "from tensorflow.keras.optimizers import Adam\n",
    "\n",
    "model = None\n",
    "def predict_with_conv1d(X_train, y_train, X_test):\n",
    "  global model\n",
    "  if model is None:\n",
    "    model = Sequential()\n",
    "    model.add(Conv1D(filters=32, kernel_size=2, activation='relu', input_shape=(X_train.shape[1], 1)))\n",
    "    model.add(Dropout(0.2))\n",
    "    model.add(Flatten())\n",
    "    model.add(Dense(64, activation='relu'))\n",
    "    model.add(Dense(1, activation='sigmoid'))\n",
    "    model.compile(optimizer=Adam(learning_rate=0.001), loss='binary_crossentropy', metrics=['accuracy'])\n",
    "  history = model.fit(X_train, y_train, epochs=10, batch_size=32, verbose=0)\n",
    "  y_pred = model.predict(X_test)\n",
    "  return y_pred\n"
   ]
  },
  {
   "cell_type": "markdown",
   "metadata": {
    "id": "j6u2wF7VgDtE"
   },
   "source": [
    "# Util Functions"
   ]
  },
  {
   "cell_type": "code",
   "execution_count": 15,
   "metadata": {},
   "outputs": [],
   "source": [
    "from typing import TypedDict\n",
    "\n",
    "class Measures(TypedDict):\n",
    "    tpr: float\n",
    "    tnr: float\n",
    "    precision: float\n",
    "    npv: float\n",
    "    fpr: float\n",
    "    fdr: float\n",
    "    fnr: float\n",
    "    acc: float\n",
    "    f1: float\n",
    "    err_rate: float\n",
    "    bacc: float\n",
    "    tss: float\n",
    "    hss: float\n",
    "    bss: float\n",
    "    auc: float"
   ]
  },
  {
   "cell_type": "code",
   "execution_count": 16,
   "metadata": {},
   "outputs": [],
   "source": [
    "from sklearn.metrics import confusion_matrix\n",
    "\n",
    "def get_classification_outcomes(y_true, y_pred):\n",
    "  tn, fp, fn, tp = confusion_matrix(y_true, y_pred).ravel()\n",
    "  return tn, fp, fn, tp"
   ]
  },
  {
   "cell_type": "code",
   "execution_count": 17,
   "metadata": {},
   "outputs": [],
   "source": [
    "def visualize_model_performance(tn, fp, fn, tp ):\n",
    "  print()\n",
    "  print('Visualizing Model Performance')\n",
    "  print(f\"{'':<5} {'':<5} {'Actual':<5}\")\n",
    "  print(f\"{'':<5} {'':<5} {'Positive':<5} {'Negative':<5}\")\n",
    "  print(f\"{'Predicted':<5} {'Positive':<5} {tp:<5} {fp:<5}\")\n",
    "  print(f\"{'':<5} {'Negative':<5} {fn:<5} {tn:<5}\")\n",
    "  print()"
   ]
  },
  {
   "cell_type": "code",
   "execution_count": 18,
   "metadata": {},
   "outputs": [],
   "source": [
    "def safe_divide(numerator, denominator):\n",
    "    if denominator == 0:\n",
    "      return 0\n",
    "    else:\n",
    "      return numerator / denominator"
   ]
  },
  {
   "cell_type": "code",
   "execution_count": 50,
   "metadata": {},
   "outputs": [],
   "source": [
    "def calculate_measures(y_true, y_pred, y_prob) -> Measures:\n",
    "  from sklearn.metrics import accuracy_score, precision_score, recall_score, f1_score, confusion_matrix, roc_auc_score, brier_score_loss\n",
    "  import numpy as np\n",
    "  test_measures = {}\n",
    "    \n",
    "  measures = {}\n",
    "  tn, fp, fn, tp = get_classification_outcomes(y_true, y_pred)\n",
    "  # visualize_model_performance(tn, fp, fn, tp )\n",
    "  p = tp + fn\n",
    "  n = tn + fp\n",
    "  measures['tpr'] = safe_divide(tp, p)\n",
    "  measures['tnr'] = safe_divide(tn, n)\n",
    "  measures['precision'] = safe_divide(tp, (fp + tp))\n",
    "  measures['npv'] = safe_divide(tn, (tn + fn))\n",
    "  measures['fpr'] = safe_divide(fp, n)\n",
    "  measures['fdr'] = safe_divide(fp, (fp + tp))\n",
    "  measures['fnr'] = safe_divide(fn, p)\n",
    "  measures['acc'] = safe_divide((tp + tn), (p + n))\n",
    "  measures['f1'] = safe_divide((2 * measures['precision'] * measures['tpr']), (measures['precision'] + measures['tpr']))\n",
    "  measures['err_rate'] = safe_divide((fp + fn), (p + n))\n",
    "  measures['bacc'] = (measures['tpr'] + measures['tnr']) / 2\n",
    "  measures['tss'] = (safe_divide(tp, (fn + tp))) - (safe_divide(fp, (fp + tn)))\n",
    "  measures['hss'] = safe_divide(2 * ((tp * tn) - (fp * fn)), ((tp + fn) * (fn + tn) + (tp + fp) * (fp + tn)))\n",
    "\n",
    "  # measures['bss'] = \n",
    "  # measures['auc'] = find_auc(y_true, y_pred)\n",
    "\n",
    "  return Measures(measures)"
   ]
  },
  {
   "cell_type": "code",
   "execution_count": 78,
   "metadata": {
    "id": "N3KR37hlgC7C"
   },
   "outputs": [],
   "source": [
    "def find_auc(y_true, y_pred):\n",
    "  ser = pd.Series(y_pred)\n",
    "  sorted_ser = ser.sort_values()\n",
    "  print(sorted_ser)\n",
    "\n",
    "  # TP = FP = 0\n",
    "  # FN = sum(y_true)\n",
    "  # TN = len(y_true) - FN\n",
    "  # points = [(0, 0)]\n",
    "\n",
    "  # for score, label in data:\n",
    "  #     if label == 1:\n",
    "  #         TP += 1\n",
    "  #         FN -= 1\n",
    "  #     else:\n",
    "  #         FP += 1\n",
    "  #         TN -= 1\n",
    "\n",
    "  #     TPR = safe_divide(TP, (TP + FN))\n",
    "  #     FPR = safe_divide(FP, (FP + TN))\n",
    "\n",
    "  #     points.append((FPR, TPR))\n",
    "\n",
    "  # auc = 0.0\n",
    "  # for i in range(1, len(points)):\n",
    "  #     x1, y1 = points[i-1]\n",
    "  #     x2, y2 = points[i]\n",
    "  #     auc += (x2 - x1) * (y1 + y2) / 2\n",
    "  # return auc"
   ]
  },
  {
   "cell_type": "code",
   "execution_count": 79,
   "metadata": {},
   "outputs": [
    {
     "name": "stdout",
     "output_type": "stream",
     "text": [
      "0      0\n",
      "346    0\n",
      "345    0\n",
      "344    0\n",
      "343    0\n",
      "      ..\n",
      "554    1\n",
      "555    1\n",
      "556    1\n",
      "576    1\n",
      "648    1\n",
      "Length: 649, dtype: int32\n"
     ]
    }
   ],
   "source": [
    "find_auc(y_test, rf_pred)"
   ]
  },
  {
   "cell_type": "markdown",
   "metadata": {
    "id": "-fofjgcPS4tw"
   },
   "source": [
    "# Train and test dataset preparation"
   ]
  },
  {
   "cell_type": "code",
   "execution_count": 40,
   "metadata": {
    "id": "o9FoOhJWS-9L"
   },
   "outputs": [],
   "source": [
    "#### Visualize measure in each fold\n",
    "from typing import Dict, List\n",
    "\n",
    "def viz_measures_k_fold(k, **kwargs: Measures):\n",
    "  suffix = 'th'\n",
    "  if k%10 == 1: suffix = 'st'\n",
    "  elif k%10 == 2: suffix = 'nd'\n",
    "  elif k%10 == 3: suffix = 'rd'\n",
    "  print()\n",
    "  print('Visualizing Model Performance', f'in {k}{suffix} fold:' if k > 0 else '')\n",
    "  print(f\"{'Measure':<13}\", end='')\n",
    "  for model in kwargs.keys():\n",
    "    print(f'{model:<13}', end='')\n",
    "  print()\n",
    "  tup = next(iter(kwargs.items()))\n",
    "  for measure in tup[1].keys():\n",
    "    print(f'{measure:<13}', end='')\n",
    "    for _, measures in kwargs.items():\n",
    "      print(f'{measures[measure]:<13.2f}', end='')\n",
    "    print()\n",
    "  print()\n",
    "\n",
    "def viz_measures_model(model, measures: List[Measures]):\n",
    "  print()\n",
    "  print('Visualizing ', model, 'Performance in Each Fold')\n",
    "  print(f\"{'Measure':<13}\", end='')\n",
    "  for fold in range(1, 11):\n",
    "    print(f'{fold:<13}', end='')\n",
    "  print()\n",
    "  for measure in measures[0].keys():\n",
    "    print(f'{measure:<13}', end='')\n",
    "    for k_measures in measures:\n",
    "      print(f'{k_measures[measure]:<13.2f}', end='')\n",
    "    print()\n",
    "  print()"
   ]
  },
  {
   "cell_type": "code",
   "execution_count": 51,
   "metadata": {
    "colab": {
     "base_uri": "https://localhost:8080/"
    },
    "id": "NhqU2i4JS0wA",
    "outputId": "d616d029-57dc-4312-862d-3041548105fd"
   },
   "outputs": [
    {
     "name": "stdout",
     "output_type": "stream",
     "text": [
      "\u001b[1m21/21\u001b[0m \u001b[32m━━━━━━━━━━━━━━━━━━━━\u001b[0m\u001b[37m\u001b[0m \u001b[1m0s\u001b[0m 359us/step\n",
      "\n",
      "Visualizing Model Performance in 1st fold:\n",
      "Measure      RandomForest DecisionTree Conv1D       \n",
      "tpr          0.72         0.68         0.80         \n",
      "tnr          0.89         0.86         0.78         \n",
      "precision    0.61         0.55         0.47         \n",
      "npv          0.93         0.92         0.94         \n",
      "fpr          0.11         0.14         0.22         \n",
      "fdr          0.39         0.45         0.53         \n",
      "fnr          0.28         0.32         0.20         \n",
      "acc          0.85         0.83         0.78         \n",
      "f1           0.66         0.61         0.59         \n",
      "err_rate     0.15         0.17         0.22         \n",
      "bacc         0.80         0.77         0.79         \n",
      "tss          0.60         0.54         0.57         \n",
      "hss          0.56         0.50         0.45         \n",
      "\n",
      "\u001b[1m21/21\u001b[0m \u001b[32m━━━━━━━━━━━━━━━━━━━━\u001b[0m\u001b[37m\u001b[0m \u001b[1m0s\u001b[0m 351us/step\n",
      "\n",
      "Visualizing Model Performance in 2nd fold:\n",
      "Measure      RandomForest DecisionTree Conv1D       \n",
      "tpr          0.73         0.71         0.85         \n",
      "tnr          0.90         0.87         0.73         \n",
      "precision    0.65         0.57         0.44         \n",
      "npv          0.93         0.92         0.95         \n",
      "fpr          0.10         0.13         0.27         \n",
      "fdr          0.35         0.43         0.56         \n",
      "fnr          0.27         0.29         0.15         \n",
      "acc          0.87         0.84         0.76         \n",
      "f1           0.69         0.63         0.58         \n",
      "err_rate     0.13         0.16         0.24         \n",
      "bacc         0.82         0.79         0.79         \n",
      "tss          0.64         0.58         0.58         \n",
      "hss          0.61         0.53         0.43         \n",
      "\n",
      "\u001b[1m21/21\u001b[0m \u001b[32m━━━━━━━━━━━━━━━━━━━━\u001b[0m\u001b[37m\u001b[0m \u001b[1m0s\u001b[0m 357us/step\n",
      "\n",
      "Visualizing Model Performance in 3rd fold:\n",
      "Measure      RandomForest DecisionTree Conv1D       \n",
      "tpr          0.80         0.73         0.95         \n",
      "tnr          0.91         0.87         0.68         \n",
      "precision    0.68         0.58         0.42         \n",
      "npv          0.95         0.93         0.98         \n",
      "fpr          0.09         0.13         0.32         \n",
      "fdr          0.32         0.42         0.58         \n",
      "fnr          0.20         0.27         0.05         \n",
      "acc          0.89         0.84         0.73         \n",
      "f1           0.74         0.65         0.58         \n",
      "err_rate     0.11         0.16         0.27         \n",
      "bacc         0.86         0.80         0.81         \n",
      "tss          0.71         0.60         0.63         \n",
      "hss          0.66         0.55         0.43         \n",
      "\n",
      "\u001b[1m21/21\u001b[0m \u001b[32m━━━━━━━━━━━━━━━━━━━━\u001b[0m\u001b[37m\u001b[0m \u001b[1m0s\u001b[0m 412us/step\n",
      "\n",
      "Visualizing Model Performance in 4th fold:\n",
      "Measure      RandomForest DecisionTree Conv1D       \n",
      "tpr          0.80         0.64         0.89         \n",
      "tnr          0.88         0.84         0.69         \n",
      "precision    0.62         0.49         0.41         \n",
      "npv          0.95         0.90         0.96         \n",
      "fpr          0.12         0.16         0.31         \n",
      "fdr          0.38         0.51         0.59         \n",
      "fnr          0.20         0.36         0.11         \n",
      "acc          0.86         0.80         0.73         \n",
      "f1           0.70         0.56         0.56         \n",
      "err_rate     0.14         0.20         0.27         \n",
      "bacc         0.84         0.74         0.79         \n",
      "tss          0.68         0.48         0.58         \n",
      "hss          0.61         0.43         0.40         \n",
      "\n",
      "\u001b[1m21/21\u001b[0m \u001b[32m━━━━━━━━━━━━━━━━━━━━\u001b[0m\u001b[37m\u001b[0m \u001b[1m0s\u001b[0m 375us/step\n",
      "\n",
      "Visualizing Model Performance in 5th fold:\n",
      "Measure      RandomForest DecisionTree Conv1D       \n",
      "tpr          0.74         0.66         0.82         \n",
      "tnr          0.91         0.86         0.78         \n",
      "precision    0.66         0.53         0.47         \n",
      "npv          0.93         0.91         0.95         \n",
      "fpr          0.09         0.14         0.22         \n",
      "fdr          0.34         0.47         0.53         \n",
      "fnr          0.26         0.34         0.18         \n",
      "acc          0.87         0.82         0.78         \n",
      "f1           0.70         0.59         0.60         \n",
      "err_rate     0.13         0.18         0.22         \n",
      "bacc         0.82         0.76         0.80         \n",
      "tss          0.65         0.51         0.60         \n",
      "hss          0.62         0.47         0.47         \n",
      "\n",
      "\u001b[1m21/21\u001b[0m \u001b[32m━━━━━━━━━━━━━━━━━━━━\u001b[0m\u001b[37m\u001b[0m \u001b[1m0s\u001b[0m 353us/step\n",
      "\n",
      "Visualizing Model Performance in 6th fold:\n",
      "Measure      RandomForest DecisionTree Conv1D       \n",
      "tpr          0.74         0.69         0.83         \n",
      "tnr          0.90         0.88         0.73         \n",
      "precision    0.64         0.59         0.43         \n",
      "npv          0.93         0.92         0.95         \n",
      "fpr          0.10         0.12         0.27         \n",
      "fdr          0.36         0.41         0.57         \n",
      "fnr          0.26         0.31         0.17         \n",
      "acc          0.87         0.84         0.75         \n",
      "f1           0.69         0.63         0.57         \n",
      "err_rate     0.13         0.16         0.25         \n",
      "bacc         0.82         0.78         0.78         \n",
      "tss          0.64         0.57         0.56         \n",
      "hss          0.60         0.53         0.42         \n",
      "\n",
      "\u001b[1m21/21\u001b[0m \u001b[32m━━━━━━━━━━━━━━━━━━━━\u001b[0m\u001b[37m\u001b[0m \u001b[1m0s\u001b[0m 381us/step\n",
      "\n",
      "Visualizing Model Performance in 7th fold:\n",
      "Measure      RandomForest DecisionTree Conv1D       \n",
      "tpr          0.79         0.76         0.80         \n",
      "tnr          0.90         0.85         0.77         \n",
      "precision    0.65         0.55         0.46         \n",
      "npv          0.95         0.93         0.94         \n",
      "fpr          0.10         0.15         0.23         \n",
      "fdr          0.35         0.45         0.54         \n",
      "fnr          0.21         0.24         0.20         \n",
      "acc          0.88         0.83         0.77         \n",
      "f1           0.71         0.64         0.58         \n",
      "err_rate     0.12         0.17         0.23         \n",
      "bacc         0.84         0.80         0.79         \n",
      "tss          0.69         0.61         0.57         \n",
      "hss          0.64         0.53         0.44         \n",
      "\n",
      "\u001b[1m21/21\u001b[0m \u001b[32m━━━━━━━━━━━━━━━━━━━━\u001b[0m\u001b[37m\u001b[0m \u001b[1m0s\u001b[0m 379us/step\n",
      "\n",
      "Visualizing Model Performance in 8th fold:\n",
      "Measure      RandomForest DecisionTree Conv1D       \n",
      "tpr          0.71         0.68         0.91         \n",
      "tnr          0.91         0.88         0.69         \n",
      "precision    0.66         0.59         0.42         \n",
      "npv          0.93         0.92         0.97         \n",
      "fpr          0.09         0.12         0.31         \n",
      "fdr          0.34         0.41         0.58         \n",
      "fnr          0.29         0.32         0.09         \n",
      "acc          0.87         0.84         0.73         \n",
      "f1           0.68         0.63         0.57         \n",
      "err_rate     0.13         0.16         0.27         \n",
      "bacc         0.81         0.78         0.80         \n",
      "tss          0.62         0.56         0.60         \n",
      "hss          0.60         0.53         0.41         \n",
      "\n",
      "\u001b[1m21/21\u001b[0m \u001b[32m━━━━━━━━━━━━━━━━━━━━\u001b[0m\u001b[37m\u001b[0m \u001b[1m0s\u001b[0m 353us/step\n",
      "\n",
      "Visualizing Model Performance in 9th fold:\n",
      "Measure      RandomForest DecisionTree Conv1D       \n",
      "tpr          0.83         0.70         0.86         \n",
      "tnr          0.90         0.85         0.75         \n",
      "precision    0.67         0.53         0.46         \n",
      "npv          0.96         0.92         0.96         \n",
      "fpr          0.10         0.15         0.25         \n",
      "fdr          0.33         0.47         0.54         \n",
      "fnr          0.17         0.30         0.14         \n",
      "acc          0.89         0.82         0.77         \n",
      "f1           0.74         0.60         0.60         \n",
      "err_rate     0.11         0.18         0.23         \n",
      "bacc         0.87         0.77         0.80         \n",
      "tss          0.73         0.55         0.61         \n",
      "hss          0.67         0.49         0.46         \n",
      "\n",
      "\u001b[1m21/21\u001b[0m \u001b[32m━━━━━━━━━━━━━━━━━━━━\u001b[0m\u001b[37m\u001b[0m \u001b[1m0s\u001b[0m 339us/step\n",
      "\n",
      "Visualizing Model Performance in 10th fold:\n",
      "Measure      RandomForest DecisionTree Conv1D       \n",
      "tpr          0.80         0.72         0.91         \n",
      "tnr          0.92         0.86         0.69         \n",
      "precision    0.71         0.56         0.42         \n",
      "npv          0.95         0.93         0.97         \n",
      "fpr          0.08         0.14         0.31         \n",
      "fdr          0.29         0.44         0.58         \n",
      "fnr          0.20         0.28         0.09         \n",
      "acc          0.90         0.84         0.73         \n",
      "f1           0.75         0.63         0.57         \n",
      "err_rate     0.10         0.16         0.27         \n",
      "bacc         0.86         0.79         0.80         \n",
      "tss          0.71         0.59         0.60         \n",
      "hss          0.68         0.53         0.41         \n",
      "\n"
     ]
    }
   ],
   "source": [
    "from sklearn.model_selection import train_test_split\n",
    "from sklearn.model_selection import StratifiedKFold\n",
    "from imblearn.over_sampling import SMOTE\n",
    "\n",
    "rf_measures = []\n",
    "dt_measures = []\n",
    "conv1D_measures = []\n",
    "test_rf_measures = []\n",
    "test_dt_measures = []\n",
    "test_conv1D_measures = []\n",
    "\n",
    "### Ensures each fold has the same proportion of classes as the complete dataset.\n",
    "kf = StratifiedKFold(n_splits=10, shuffle=True, random_state=42)\n",
    "y = data[\"recommendation\"]\n",
    "X = data.drop(\"recommendation\", axis=1)\n",
    "\n",
    "for idx, (train_index, test_index) in enumerate(kf.split(X, y), start = 1):\n",
    "    X_train, X_test = X.iloc[train_index], X.iloc[test_index]\n",
    "    y_train, y_test = y.iloc[train_index], y.iloc[test_index]\n",
    "\n",
    "    smote = SMOTE(random_state=42)\n",
    "    X_resampled, y_resampled = smote.fit_resample(X_train, y_train)\n",
    "\n",
    "    rf_pred, rf_prob = predict_with_random_forest(X_resampled, y_resampled, X_test)\n",
    "    measures = calculate_measures(y_test, rf_pred, rf_prob)\n",
    "    rf_measures.append(measures)\n",
    "\n",
    "\n",
    "    dt_pred, dt_prob = predict_with_decision_tree(X_resampled, y_resampled, X_test)\n",
    "    measures = calculate_measures(y_test, dt_pred, dt_prob)\n",
    "    dt_measures.append(measures)\n",
    "\n",
    "    conv1d_prob = predict_with_conv1d(X_resampled, y_resampled, X_test)\n",
    "    conv1d_pred = (conv1d_prob > 0.5).astype(int)\n",
    "    measures = calculate_measures(y_test, [item for row in conv1d_pred for item in row], conv1d_prob.flatten())\n",
    "    conv1D_measures.append(measures)\n",
    "\n",
    "    viz_measures_k_fold(idx, RandomForest = rf_measures[idx - 1], DecisionTree=dt_measures[idx - 1], Conv1D=conv1D_measures[idx - 1])"
   ]
  },
  {
   "cell_type": "code",
   "execution_count": 52,
   "metadata": {
    "id": "-1MgjnJlfza3"
   },
   "outputs": [
    {
     "name": "stdout",
     "output_type": "stream",
     "text": [
      "\n",
      "Visualizing  Random Forest Performance in Each Fold\n",
      "Measure      1            2            3            4            5            6            7            8            9            10           \n",
      "tpr          0.72         0.73         0.80         0.80         0.74         0.74         0.79         0.71         0.83         0.80         \n",
      "tnr          0.89         0.90         0.91         0.88         0.91         0.90         0.90         0.91         0.90         0.92         \n",
      "precision    0.61         0.65         0.68         0.62         0.66         0.64         0.65         0.66         0.67         0.71         \n",
      "npv          0.93         0.93         0.95         0.95         0.93         0.93         0.95         0.93         0.96         0.95         \n",
      "fpr          0.11         0.10         0.09         0.12         0.09         0.10         0.10         0.09         0.10         0.08         \n",
      "fdr          0.39         0.35         0.32         0.38         0.34         0.36         0.35         0.34         0.33         0.29         \n",
      "fnr          0.28         0.27         0.20         0.20         0.26         0.26         0.21         0.29         0.17         0.20         \n",
      "acc          0.85         0.87         0.89         0.86         0.87         0.87         0.88         0.87         0.89         0.90         \n",
      "f1           0.66         0.69         0.74         0.70         0.70         0.69         0.71         0.68         0.74         0.75         \n",
      "err_rate     0.15         0.13         0.11         0.14         0.13         0.13         0.12         0.13         0.11         0.10         \n",
      "bacc         0.80         0.82         0.86         0.84         0.82         0.82         0.84         0.81         0.87         0.86         \n",
      "tss          0.60         0.64         0.71         0.68         0.65         0.64         0.69         0.62         0.73         0.71         \n",
      "hss          0.56         0.61         0.66         0.61         0.62         0.60         0.64         0.60         0.67         0.68         \n",
      "\n"
     ]
    }
   ],
   "source": [
    "viz_measures_model(\"Random Forest\", rf_measures)"
   ]
  },
  {
   "cell_type": "code",
   "execution_count": 53,
   "metadata": {
    "id": "SnlDU_xwfr8f"
   },
   "outputs": [
    {
     "name": "stdout",
     "output_type": "stream",
     "text": [
      "\n",
      "Visualizing  Decision Tree Performance in Each Fold\n",
      "Measure      1            2            3            4            5            6            7            8            9            10           \n",
      "tpr          0.68         0.71         0.73         0.64         0.66         0.69         0.76         0.68         0.70         0.72         \n",
      "tnr          0.86         0.87         0.87         0.84         0.86         0.88         0.85         0.88         0.85         0.86         \n",
      "precision    0.55         0.57         0.58         0.49         0.53         0.59         0.55         0.59         0.53         0.56         \n",
      "npv          0.92         0.92         0.93         0.90         0.91         0.92         0.93         0.92         0.92         0.93         \n",
      "fpr          0.14         0.13         0.13         0.16         0.14         0.12         0.15         0.12         0.15         0.14         \n",
      "fdr          0.45         0.43         0.42         0.51         0.47         0.41         0.45         0.41         0.47         0.44         \n",
      "fnr          0.32         0.29         0.27         0.36         0.34         0.31         0.24         0.32         0.30         0.28         \n",
      "acc          0.83         0.84         0.84         0.80         0.82         0.84         0.83         0.84         0.82         0.84         \n",
      "f1           0.61         0.63         0.65         0.56         0.59         0.63         0.64         0.63         0.60         0.63         \n",
      "err_rate     0.17         0.16         0.16         0.20         0.18         0.16         0.17         0.16         0.18         0.16         \n",
      "bacc         0.77         0.79         0.80         0.74         0.76         0.78         0.80         0.78         0.77         0.79         \n",
      "tss          0.54         0.58         0.60         0.48         0.51         0.57         0.61         0.56         0.55         0.59         \n",
      "hss          0.50         0.53         0.55         0.43         0.47         0.53         0.53         0.53         0.49         0.53         \n",
      "\n"
     ]
    }
   ],
   "source": [
    "viz_measures_model(\"Decision Tree\", dt_measures)"
   ]
  },
  {
   "cell_type": "code",
   "execution_count": 54,
   "metadata": {
    "id": "rS8bMXyIf0ff"
   },
   "outputs": [
    {
     "name": "stdout",
     "output_type": "stream",
     "text": [
      "\n",
      "Visualizing  Conv 1D Performance in Each Fold\n",
      "Measure      1            2            3            4            5            6            7            8            9            10           \n",
      "tpr          0.80         0.85         0.95         0.89         0.82         0.83         0.80         0.91         0.86         0.91         \n",
      "tnr          0.78         0.73         0.68         0.69         0.78         0.73         0.77         0.69         0.75         0.69         \n",
      "precision    0.47         0.44         0.42         0.41         0.47         0.43         0.46         0.42         0.46         0.42         \n",
      "npv          0.94         0.95         0.98         0.96         0.95         0.95         0.94         0.97         0.96         0.97         \n",
      "fpr          0.22         0.27         0.32         0.31         0.22         0.27         0.23         0.31         0.25         0.31         \n",
      "fdr          0.53         0.56         0.58         0.59         0.53         0.57         0.54         0.58         0.54         0.58         \n",
      "fnr          0.20         0.15         0.05         0.11         0.18         0.17         0.20         0.09         0.14         0.09         \n",
      "acc          0.78         0.76         0.73         0.73         0.78         0.75         0.77         0.73         0.77         0.73         \n",
      "f1           0.59         0.58         0.58         0.56         0.60         0.57         0.58         0.57         0.60         0.57         \n",
      "err_rate     0.22         0.24         0.27         0.27         0.22         0.25         0.23         0.27         0.23         0.27         \n",
      "bacc         0.79         0.79         0.81         0.79         0.80         0.78         0.79         0.80         0.80         0.80         \n",
      "tss          0.57         0.58         0.63         0.58         0.60         0.56         0.57         0.60         0.61         0.60         \n",
      "hss          0.45         0.43         0.43         0.40         0.47         0.42         0.44         0.41         0.46         0.41         \n",
      "\n"
     ]
    }
   ],
   "source": [
    "viz_measures_model(\"Conv 1D\", conv1D_measures)"
   ]
  },
  {
   "cell_type": "code",
   "execution_count": 56,
   "metadata": {
    "colab": {
     "base_uri": "https://localhost:8080/"
    },
    "id": "2ZkHTqgPIo9L",
    "outputId": "0376ace7-9737-490d-89a7-8ef00ca981ea"
   },
   "outputs": [
    {
     "name": "stdout",
     "output_type": "stream",
     "text": [
      "\n",
      "Visualizing Model Performance \n",
      "Measure      RandomForest DecisionTree Conv1D       \n",
      "tpr          0.77         0.70         0.86         \n",
      "tnr          0.90         0.86         0.73         \n",
      "precision    0.65         0.55         0.44         \n",
      "npv          0.94         0.92         0.96         \n",
      "fpr          0.10         0.14         0.27         \n",
      "fdr          0.35         0.45         0.56         \n",
      "fnr          0.23         0.30         0.14         \n",
      "acc          0.87         0.83         0.75         \n",
      "f1           0.71         0.62         0.58         \n",
      "err_rate     0.13         0.17         0.25         \n",
      "bacc         0.83         0.78         0.79         \n",
      "tss          0.67         0.56         0.59         \n",
      "hss          0.63         0.51         0.43         \n",
      "\n"
     ]
    }
   ],
   "source": [
    "## Average measures\n",
    "def calc_avg_measures(measures):\n",
    "  fpr_values, tpr_values = [], []\n",
    "  avg = {}\n",
    "  metrics = measures[0].keys();\n",
    "  for metric in metrics:\n",
    "    for i in range(0, 10):\n",
    "      avg[metric] = avg.get(metric, 0) + measures[i][metric]\n",
    "      if metric == 'fpr':\n",
    "        fpr_values.append(measures[i][metric])\n",
    "      elif metric == 'tpr':\n",
    "        tpr_values.append(measures[i][metric])\n",
    "    avg[metric] = avg[metric] / 10\n",
    "  return avg\n",
    "\n",
    "viz_measures_k_fold(0, RandomForest = calc_avg_measures(rf_measures), DecisionTree=calc_avg_measures(dt_measures), Conv1D=calc_avg_measures(conv1D_measures))"
   ]
  },
  {
   "cell_type": "code",
   "execution_count": 57,
   "metadata": {
    "id": "aXM0T7YiZXsT"
   },
   "outputs": [],
   "source": [
    "def visualize_roc(y_test, y_pred, predictor):\n",
    "  from sklearn.metrics import roc_curve, auc\n",
    "  fpr, tpr, _ = roc_curve(y_test, y_pred)\n",
    "  roc_auc = auc(fpr, tpr)\n",
    "  plt.figure()\n",
    "  plt.plot(fpr, tpr, color=\"darkorange\", label=f'Area: {roc_auc:.2f}')\n",
    "  plt.plot([0, 1], [0, 1], color=\"navy\", linestyle=\"--\")\n",
    "  plt.xlim([0.0, 1.0])\n",
    "  plt.ylim([0.0, 1.05])\n",
    "  plt.xlabel(\"False Positive Rate\")\n",
    "  plt.ylabel(\"True Positive Rate\")\n",
    "  plt.title(f'ROC Curve for {predictor} Predictions')\n",
    "  plt.legend(loc=\"lower right\")\n",
    "  plt.show()"
   ]
  },
  {
   "cell_type": "code",
   "execution_count": 58,
   "metadata": {
    "id": "kxRgzhsSZcra"
   },
   "outputs": [
    {
     "data": {
      "image/png": "[encoded data removed]",
      "text/plain": [
       "<Figure size 640x480 with 1 Axes>"
      ]
     },
     "metadata": {},
     "output_type": "display_data"
    }
   ],
   "source": [
    "visualize_roc(y_test, rf_pred, \"Random Forest\")"
   ]
  },
  {
   "cell_type": "code",
   "execution_count": 59,
   "metadata": {
    "id": "gKlpsccSZddW"
   },
   "outputs": [
    {
     "data": {
      "image/png": "[encoded data removed]",
      "text/plain": [
       "<Figure size 640x480 with 1 Axes>"
      ]
     },
     "metadata": {},
     "output_type": "display_data"
    }
   ],
   "source": [
    "visualize_roc(y_test, dt_pred, \"Decision Tree\")"
   ]
  },
  {
   "cell_type": "code",
   "execution_count": 60,
   "metadata": {
    "id": "kYkGdXE6ZfNR"
   },
   "outputs": [
    {
     "data": {
      "image/png": "[encoded data removed]",
      "text/plain": [
       "<Figure size 640x480 with 1 Axes>"
      ]
     },
     "metadata": {},
     "output_type": "display_data"
    }
   ],
   "source": [
    "visualize_roc(y_test, conv1d_pred, \"Conv1D\")"
   ]
  },
  {
   "cell_type": "code",
   "execution_count": null,
   "metadata": {},
   "outputs": [],
   "source": []
  }
 ],
 "metadata": {
  "colab": {
   "authorship_tag": "ABX9TyM5cJdd0ZJIGtGvheEd5r41",
   "include_colab_link": true,
   "provenance": []
  },
  "kernelspec": {
   "display_name": "Python 3 (ipykernel)",
   "language": "python",
   "name": "python3"
  },
  "language_info": {
   "codemirror_mode": {
    "name": "ipython",
    "version": 3
   },
   "file_extension": ".py",
   "mimetype": "text/x-python",
   "name": "python",
   "nbconvert_exporter": "python",
   "pygments_lexer": "ipython3",
   "version": "3.12.3"
  }
 },
 "nbformat": 4,
 "nbformat_minor": 4
}
