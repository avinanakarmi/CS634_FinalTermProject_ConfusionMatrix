{
 "cells": [
  {
   "cell_type": "markdown",
   "metadata": {},
   "source": [
    "# Procedure to Run the Project\n",
    "To run the project and generate association rules, follow these steps:  \n",
    "1. **Clone or Download the Project Files:**  \n",
    "First, clone the repository or download the project files to your local machine.  \n",
    "Ensure that all necessary scripts and datasets are present in the project folder.  \n",
    "`git clone https://github.com/avinanakarmi/nakarmi_avina_finaltermproj.git`  \n",
    "`cd nakarmi_avina_finalproj`  \n",
    "2. **Install the Required Libraries:**  \n",
    "Make sure your python version is 3.12 for compatibility with tensorflow. If you haven't installed the libraries listed in the prerequisites section, you can do so by running:  \n",
    "`pip install -r requirements.txt`  \n",
    "3. **Run the Project:**  \n",
    "Open a terminal or command prompt in the project directory and run:  \n",
    "`python nakarmi_avina_finaltermproj.py`  \n",
    "6. **View Results:**  \n",
    "Once the script finishes running, it will display the performance metrics for selected models.  \n",
    "7. **Evaluate Performance:**  \n",
    "The report analyses all relevant performance metrics given the property of dataset and recommends the best model."
   ]
  },
  {
   "cell_type": "markdown",
   "metadata": {},
   "source": [
    "# Objective\n",
    "The objective of this project was to develop and evaluate three machine learning models—Random Forest, Decision Tree, and a 1D Convolutional Neural Network (CNN)—to classify data from a large, imbalanced dataset with high multicollinearity. The goal was to calculate and analyze a comprehensive set of performance metrics, including true positives (TP), true negatives (TN), false positives (FP), false negatives (FN), true positive rate (TPR), true negative rate (TNR), precision, negative predictive value (NPV), false positive rate (FPR), false discovery rate (FDR), false negative rate (FNR), accuracy (ACC), F1 score, error rate, balanced accuracy (BACC), true skill statistic (TSS), Heidke skill score (HSS), Brier score (BS), and area under the ROC curve (AUC). By comparing these metrics, the aim was to identify and recommend the best-performing model for accurately classifying the dataset. This evaluation considered both predictive performance and robustness to data imbalances and feature correlations."
   ]
  },
  {
   "cell_type": "code",
   "execution_count": 3,
   "metadata": {
    "id": "2aip_wSf3IKU"
   },
   "outputs": [],
   "source": [
    "import pandas as pd\n",
    "import matplotlib.pyplot as plt\n",
    "import seaborn as sns\n",
    "import numpy as np"
   ]
  },
  {
   "cell_type": "markdown",
   "metadata": {
    "id": "LcdYP25d44Pw"
   },
   "source": [
    "# Data Exploration and Preprocessing"
   ]
  },
  {
   "cell_type": "markdown",
   "metadata": {},
   "source": [
    "## Data Description"
   ]
  },
  {
   "cell_type": "code",
   "execution_count": 4,
   "metadata": {
    "colab": {
     "base_uri": "https://localhost:8080/",
     "height": 300
    },
    "id": "645GjhE4u2XZ",
    "outputId": "6b5576a9-f1c7-411c-a40b-5445efdc237f"
   },
   "outputs": [
    {
     "data": {
      "text/html": [
       "<div>\n",
       "<style scoped>\n",
       "    .dataframe tbody tr th:only-of-type {\n",
       "        vertical-align: middle;\n",
       "    }\n",
       "\n",
       "    .dataframe tbody tr th {\n",
       "        vertical-align: top;\n",
       "    }\n",
       "\n",
       "    .dataframe thead th {\n",
       "        text-align: right;\n",
       "    }\n",
       "</style>\n",
       "<table border=\"1\" class=\"dataframe\">\n",
       "  <thead>\n",
       "    <tr style=\"text-align: right;\">\n",
       "      <th></th>\n",
       "      <th>fixed acidity</th>\n",
       "      <th>volatile acidity</th>\n",
       "      <th>citric acid</th>\n",
       "      <th>residual sugar</th>\n",
       "      <th>chlorides</th>\n",
       "      <th>free sulfur dioxide</th>\n",
       "      <th>total sulfur dioxide</th>\n",
       "      <th>density</th>\n",
       "      <th>pH</th>\n",
       "      <th>sulphates</th>\n",
       "      <th>alcohol</th>\n",
       "      <th>quality</th>\n",
       "    </tr>\n",
       "  </thead>\n",
       "  <tbody>\n",
       "    <tr>\n",
       "      <th>count</th>\n",
       "      <td>6497.000000</td>\n",
       "      <td>6497.000000</td>\n",
       "      <td>6497.000000</td>\n",
       "      <td>6497.000000</td>\n",
       "      <td>6497.000000</td>\n",
       "      <td>6497.000000</td>\n",
       "      <td>6497.000000</td>\n",
       "      <td>6497.000000</td>\n",
       "      <td>6497.000000</td>\n",
       "      <td>6497.000000</td>\n",
       "      <td>6497.000000</td>\n",
       "      <td>6497.000000</td>\n",
       "    </tr>\n",
       "    <tr>\n",
       "      <th>mean</th>\n",
       "      <td>7.215307</td>\n",
       "      <td>0.339666</td>\n",
       "      <td>0.318633</td>\n",
       "      <td>5.443235</td>\n",
       "      <td>0.056034</td>\n",
       "      <td>30.525319</td>\n",
       "      <td>115.744574</td>\n",
       "      <td>0.994697</td>\n",
       "      <td>3.218501</td>\n",
       "      <td>0.531268</td>\n",
       "      <td>10.491801</td>\n",
       "      <td>5.818378</td>\n",
       "    </tr>\n",
       "    <tr>\n",
       "      <th>std</th>\n",
       "      <td>1.296434</td>\n",
       "      <td>0.164636</td>\n",
       "      <td>0.145318</td>\n",
       "      <td>4.757804</td>\n",
       "      <td>0.035034</td>\n",
       "      <td>17.749400</td>\n",
       "      <td>56.521855</td>\n",
       "      <td>0.002999</td>\n",
       "      <td>0.160787</td>\n",
       "      <td>0.148806</td>\n",
       "      <td>1.192712</td>\n",
       "      <td>0.873255</td>\n",
       "    </tr>\n",
       "    <tr>\n",
       "      <th>min</th>\n",
       "      <td>3.800000</td>\n",
       "      <td>0.080000</td>\n",
       "      <td>0.000000</td>\n",
       "      <td>0.600000</td>\n",
       "      <td>0.009000</td>\n",
       "      <td>1.000000</td>\n",
       "      <td>6.000000</td>\n",
       "      <td>0.987110</td>\n",
       "      <td>2.720000</td>\n",
       "      <td>0.220000</td>\n",
       "      <td>8.000000</td>\n",
       "      <td>3.000000</td>\n",
       "    </tr>\n",
       "    <tr>\n",
       "      <th>25%</th>\n",
       "      <td>6.400000</td>\n",
       "      <td>0.230000</td>\n",
       "      <td>0.250000</td>\n",
       "      <td>1.800000</td>\n",
       "      <td>0.038000</td>\n",
       "      <td>17.000000</td>\n",
       "      <td>77.000000</td>\n",
       "      <td>0.992340</td>\n",
       "      <td>3.110000</td>\n",
       "      <td>0.430000</td>\n",
       "      <td>9.500000</td>\n",
       "      <td>5.000000</td>\n",
       "    </tr>\n",
       "    <tr>\n",
       "      <th>50%</th>\n",
       "      <td>7.000000</td>\n",
       "      <td>0.290000</td>\n",
       "      <td>0.310000</td>\n",
       "      <td>3.000000</td>\n",
       "      <td>0.047000</td>\n",
       "      <td>29.000000</td>\n",
       "      <td>118.000000</td>\n",
       "      <td>0.994890</td>\n",
       "      <td>3.210000</td>\n",
       "      <td>0.510000</td>\n",
       "      <td>10.300000</td>\n",
       "      <td>6.000000</td>\n",
       "    </tr>\n",
       "    <tr>\n",
       "      <th>75%</th>\n",
       "      <td>7.700000</td>\n",
       "      <td>0.400000</td>\n",
       "      <td>0.390000</td>\n",
       "      <td>8.100000</td>\n",
       "      <td>0.065000</td>\n",
       "      <td>41.000000</td>\n",
       "      <td>156.000000</td>\n",
       "      <td>0.996990</td>\n",
       "      <td>3.320000</td>\n",
       "      <td>0.600000</td>\n",
       "      <td>11.300000</td>\n",
       "      <td>6.000000</td>\n",
       "    </tr>\n",
       "    <tr>\n",
       "      <th>max</th>\n",
       "      <td>15.900000</td>\n",
       "      <td>1.580000</td>\n",
       "      <td>1.660000</td>\n",
       "      <td>65.800000</td>\n",
       "      <td>0.611000</td>\n",
       "      <td>289.000000</td>\n",
       "      <td>440.000000</td>\n",
       "      <td>1.038980</td>\n",
       "      <td>4.010000</td>\n",
       "      <td>2.000000</td>\n",
       "      <td>14.900000</td>\n",
       "      <td>9.000000</td>\n",
       "    </tr>\n",
       "  </tbody>\n",
       "</table>\n",
       "</div>"
      ],
      "text/plain": [
       "       fixed acidity  volatile acidity  citric acid  residual sugar  \\\n",
       "count    6497.000000       6497.000000  6497.000000     6497.000000   \n",
       "mean        7.215307          0.339666     0.318633        5.443235   \n",
       "std         1.296434          0.164636     0.145318        4.757804   \n",
       "min         3.800000          0.080000     0.000000        0.600000   \n",
       "25%         6.400000          0.230000     0.250000        1.800000   \n",
       "50%         7.000000          0.290000     0.310000        3.000000   \n",
       "75%         7.700000          0.400000     0.390000        8.100000   \n",
       "max        15.900000          1.580000     1.660000       65.800000   \n",
       "\n",
       "         chlorides  free sulfur dioxide  total sulfur dioxide      density  \\\n",
       "count  6497.000000          6497.000000           6497.000000  6497.000000   \n",
       "mean      0.056034            30.525319            115.744574     0.994697   \n",
       "std       0.035034            17.749400             56.521855     0.002999   \n",
       "min       0.009000             1.000000              6.000000     0.987110   \n",
       "25%       0.038000            17.000000             77.000000     0.992340   \n",
       "50%       0.047000            29.000000            118.000000     0.994890   \n",
       "75%       0.065000            41.000000            156.000000     0.996990   \n",
       "max       0.611000           289.000000            440.000000     1.038980   \n",
       "\n",
       "                pH    sulphates      alcohol      quality  \n",
       "count  6497.000000  6497.000000  6497.000000  6497.000000  \n",
       "mean      3.218501     0.531268    10.491801     5.818378  \n",
       "std       0.160787     0.148806     1.192712     0.873255  \n",
       "min       2.720000     0.220000     8.000000     3.000000  \n",
       "25%       3.110000     0.430000     9.500000     5.000000  \n",
       "50%       3.210000     0.510000    10.300000     6.000000  \n",
       "75%       3.320000     0.600000    11.300000     6.000000  \n",
       "max       4.010000     2.000000    14.900000     9.000000  "
      ]
     },
     "execution_count": 4,
     "metadata": {},
     "output_type": "execute_result"
    }
   ],
   "source": [
    "data = pd.read_csv(\"./nakarmi_avina_finaltermproj.csv\", sep=\";\")\n",
    "\n",
    "data.describe()"
   ]
  },
  {
   "cell_type": "code",
   "execution_count": 5,
   "metadata": {
    "colab": {
     "base_uri": "https://localhost:8080/",
     "height": 206
    },
    "id": "wdT1eCOKRlfP",
    "outputId": "7d7a512f-7a26-4fd9-9f52-419e4211c214"
   },
   "outputs": [
    {
     "data": {
      "text/html": [
       "<div>\n",
       "<style scoped>\n",
       "    .dataframe tbody tr th:only-of-type {\n",
       "        vertical-align: middle;\n",
       "    }\n",
       "\n",
       "    .dataframe tbody tr th {\n",
       "        vertical-align: top;\n",
       "    }\n",
       "\n",
       "    .dataframe thead th {\n",
       "        text-align: right;\n",
       "    }\n",
       "</style>\n",
       "<table border=\"1\" class=\"dataframe\">\n",
       "  <thead>\n",
       "    <tr style=\"text-align: right;\">\n",
       "      <th></th>\n",
       "      <th>fixed acidity</th>\n",
       "      <th>volatile acidity</th>\n",
       "      <th>citric acid</th>\n",
       "      <th>residual sugar</th>\n",
       "      <th>chlorides</th>\n",
       "      <th>free sulfur dioxide</th>\n",
       "      <th>total sulfur dioxide</th>\n",
       "      <th>density</th>\n",
       "      <th>pH</th>\n",
       "      <th>sulphates</th>\n",
       "      <th>alcohol</th>\n",
       "      <th>quality</th>\n",
       "    </tr>\n",
       "  </thead>\n",
       "  <tbody>\n",
       "    <tr>\n",
       "      <th>6492</th>\n",
       "      <td>6.2</td>\n",
       "      <td>0.21</td>\n",
       "      <td>0.29</td>\n",
       "      <td>1.6</td>\n",
       "      <td>0.039</td>\n",
       "      <td>24.0</td>\n",
       "      <td>92.0</td>\n",
       "      <td>0.99114</td>\n",
       "      <td>3.27</td>\n",
       "      <td>0.50</td>\n",
       "      <td>11.2</td>\n",
       "      <td>6</td>\n",
       "    </tr>\n",
       "    <tr>\n",
       "      <th>6493</th>\n",
       "      <td>6.6</td>\n",
       "      <td>0.32</td>\n",
       "      <td>0.36</td>\n",
       "      <td>8.0</td>\n",
       "      <td>0.047</td>\n",
       "      <td>57.0</td>\n",
       "      <td>168.0</td>\n",
       "      <td>0.99490</td>\n",
       "      <td>3.15</td>\n",
       "      <td>0.46</td>\n",
       "      <td>9.6</td>\n",
       "      <td>5</td>\n",
       "    </tr>\n",
       "    <tr>\n",
       "      <th>6494</th>\n",
       "      <td>6.5</td>\n",
       "      <td>0.24</td>\n",
       "      <td>0.19</td>\n",
       "      <td>1.2</td>\n",
       "      <td>0.041</td>\n",
       "      <td>30.0</td>\n",
       "      <td>111.0</td>\n",
       "      <td>0.99254</td>\n",
       "      <td>2.99</td>\n",
       "      <td>0.46</td>\n",
       "      <td>9.4</td>\n",
       "      <td>6</td>\n",
       "    </tr>\n",
       "    <tr>\n",
       "      <th>6495</th>\n",
       "      <td>5.5</td>\n",
       "      <td>0.29</td>\n",
       "      <td>0.30</td>\n",
       "      <td>1.1</td>\n",
       "      <td>0.022</td>\n",
       "      <td>20.0</td>\n",
       "      <td>110.0</td>\n",
       "      <td>0.98869</td>\n",
       "      <td>3.34</td>\n",
       "      <td>0.38</td>\n",
       "      <td>12.8</td>\n",
       "      <td>7</td>\n",
       "    </tr>\n",
       "    <tr>\n",
       "      <th>6496</th>\n",
       "      <td>6.0</td>\n",
       "      <td>0.21</td>\n",
       "      <td>0.38</td>\n",
       "      <td>0.8</td>\n",
       "      <td>0.020</td>\n",
       "      <td>22.0</td>\n",
       "      <td>98.0</td>\n",
       "      <td>0.98941</td>\n",
       "      <td>3.26</td>\n",
       "      <td>0.32</td>\n",
       "      <td>11.8</td>\n",
       "      <td>6</td>\n",
       "    </tr>\n",
       "  </tbody>\n",
       "</table>\n",
       "</div>"
      ],
      "text/plain": [
       "      fixed acidity  volatile acidity  citric acid  residual sugar  chlorides  \\\n",
       "6492            6.2              0.21         0.29             1.6      0.039   \n",
       "6493            6.6              0.32         0.36             8.0      0.047   \n",
       "6494            6.5              0.24         0.19             1.2      0.041   \n",
       "6495            5.5              0.29         0.30             1.1      0.022   \n",
       "6496            6.0              0.21         0.38             0.8      0.020   \n",
       "\n",
       "      free sulfur dioxide  total sulfur dioxide  density    pH  sulphates  \\\n",
       "6492                 24.0                  92.0  0.99114  3.27       0.50   \n",
       "6493                 57.0                 168.0  0.99490  3.15       0.46   \n",
       "6494                 30.0                 111.0  0.99254  2.99       0.46   \n",
       "6495                 20.0                 110.0  0.98869  3.34       0.38   \n",
       "6496                 22.0                  98.0  0.98941  3.26       0.32   \n",
       "\n",
       "      alcohol  quality  \n",
       "6492     11.2        6  \n",
       "6493      9.6        5  \n",
       "6494      9.4        6  \n",
       "6495     12.8        7  \n",
       "6496     11.8        6  "
      ]
     },
     "execution_count": 5,
     "metadata": {},
     "output_type": "execute_result"
    }
   ],
   "source": [
    "data.tail()"
   ]
  },
  {
   "cell_type": "markdown",
   "metadata": {},
   "source": [
    "## Data transformation\n",
    "The project requires us to work with binary classification data, wehreas this data set has multiclass classification for the target attribute quality. To align with the project requirements a \"recommended\" attribute is derived from the \"quality\" attribute. If the quality of data item is higher than 6, the wine is recommended i.e, the recommended attribute has value 1."
   ]
  },
  {
   "cell_type": "code",
   "execution_count": 6,
   "metadata": {},
   "outputs": [],
   "source": [
    "data[\"recommendation\"] = (data[\"quality\"] > 6).astype('int32')\n",
    "data = data.drop(\"quality\", axis=1)"
   ]
  },
  {
   "cell_type": "code",
   "execution_count": 7,
   "metadata": {},
   "outputs": [
    {
     "data": {
      "text/html": [
       "<div>\n",
       "<style scoped>\n",
       "    .dataframe tbody tr th:only-of-type {\n",
       "        vertical-align: middle;\n",
       "    }\n",
       "\n",
       "    .dataframe tbody tr th {\n",
       "        vertical-align: top;\n",
       "    }\n",
       "\n",
       "    .dataframe thead th {\n",
       "        text-align: right;\n",
       "    }\n",
       "</style>\n",
       "<table border=\"1\" class=\"dataframe\">\n",
       "  <thead>\n",
       "    <tr style=\"text-align: right;\">\n",
       "      <th></th>\n",
       "      <th>fixed acidity</th>\n",
       "      <th>volatile acidity</th>\n",
       "      <th>citric acid</th>\n",
       "      <th>residual sugar</th>\n",
       "      <th>chlorides</th>\n",
       "      <th>free sulfur dioxide</th>\n",
       "      <th>total sulfur dioxide</th>\n",
       "      <th>density</th>\n",
       "      <th>pH</th>\n",
       "      <th>sulphates</th>\n",
       "      <th>alcohol</th>\n",
       "      <th>recommendation</th>\n",
       "    </tr>\n",
       "  </thead>\n",
       "  <tbody>\n",
       "    <tr>\n",
       "      <th>6492</th>\n",
       "      <td>6.2</td>\n",
       "      <td>0.21</td>\n",
       "      <td>0.29</td>\n",
       "      <td>1.6</td>\n",
       "      <td>0.039</td>\n",
       "      <td>24.0</td>\n",
       "      <td>92.0</td>\n",
       "      <td>0.99114</td>\n",
       "      <td>3.27</td>\n",
       "      <td>0.50</td>\n",
       "      <td>11.2</td>\n",
       "      <td>0</td>\n",
       "    </tr>\n",
       "    <tr>\n",
       "      <th>6493</th>\n",
       "      <td>6.6</td>\n",
       "      <td>0.32</td>\n",
       "      <td>0.36</td>\n",
       "      <td>8.0</td>\n",
       "      <td>0.047</td>\n",
       "      <td>57.0</td>\n",
       "      <td>168.0</td>\n",
       "      <td>0.99490</td>\n",
       "      <td>3.15</td>\n",
       "      <td>0.46</td>\n",
       "      <td>9.6</td>\n",
       "      <td>0</td>\n",
       "    </tr>\n",
       "    <tr>\n",
       "      <th>6494</th>\n",
       "      <td>6.5</td>\n",
       "      <td>0.24</td>\n",
       "      <td>0.19</td>\n",
       "      <td>1.2</td>\n",
       "      <td>0.041</td>\n",
       "      <td>30.0</td>\n",
       "      <td>111.0</td>\n",
       "      <td>0.99254</td>\n",
       "      <td>2.99</td>\n",
       "      <td>0.46</td>\n",
       "      <td>9.4</td>\n",
       "      <td>0</td>\n",
       "    </tr>\n",
       "    <tr>\n",
       "      <th>6495</th>\n",
       "      <td>5.5</td>\n",
       "      <td>0.29</td>\n",
       "      <td>0.30</td>\n",
       "      <td>1.1</td>\n",
       "      <td>0.022</td>\n",
       "      <td>20.0</td>\n",
       "      <td>110.0</td>\n",
       "      <td>0.98869</td>\n",
       "      <td>3.34</td>\n",
       "      <td>0.38</td>\n",
       "      <td>12.8</td>\n",
       "      <td>1</td>\n",
       "    </tr>\n",
       "    <tr>\n",
       "      <th>6496</th>\n",
       "      <td>6.0</td>\n",
       "      <td>0.21</td>\n",
       "      <td>0.38</td>\n",
       "      <td>0.8</td>\n",
       "      <td>0.020</td>\n",
       "      <td>22.0</td>\n",
       "      <td>98.0</td>\n",
       "      <td>0.98941</td>\n",
       "      <td>3.26</td>\n",
       "      <td>0.32</td>\n",
       "      <td>11.8</td>\n",
       "      <td>0</td>\n",
       "    </tr>\n",
       "  </tbody>\n",
       "</table>\n",
       "</div>"
      ],
      "text/plain": [
       "      fixed acidity  volatile acidity  citric acid  residual sugar  chlorides  \\\n",
       "6492            6.2              0.21         0.29             1.6      0.039   \n",
       "6493            6.6              0.32         0.36             8.0      0.047   \n",
       "6494            6.5              0.24         0.19             1.2      0.041   \n",
       "6495            5.5              0.29         0.30             1.1      0.022   \n",
       "6496            6.0              0.21         0.38             0.8      0.020   \n",
       "\n",
       "      free sulfur dioxide  total sulfur dioxide  density    pH  sulphates  \\\n",
       "6492                 24.0                  92.0  0.99114  3.27       0.50   \n",
       "6493                 57.0                 168.0  0.99490  3.15       0.46   \n",
       "6494                 30.0                 111.0  0.99254  2.99       0.46   \n",
       "6495                 20.0                 110.0  0.98869  3.34       0.38   \n",
       "6496                 22.0                  98.0  0.98941  3.26       0.32   \n",
       "\n",
       "      alcohol  recommendation  \n",
       "6492     11.2               0  \n",
       "6493      9.6               0  \n",
       "6494      9.4               0  \n",
       "6495     12.8               1  \n",
       "6496     11.8               0  "
      ]
     },
     "execution_count": 7,
     "metadata": {},
     "output_type": "execute_result"
    }
   ],
   "source": [
    "data.tail()"
   ]
  },
  {
   "cell_type": "markdown",
   "metadata": {},
   "source": [
    "## Type of attibutes and null values"
   ]
  },
  {
   "cell_type": "code",
   "execution_count": 8,
   "metadata": {
    "colab": {
     "base_uri": "https://localhost:8080/"
    },
    "id": "pyJ63BKt5Pl3",
    "outputId": "a6d9deb2-fa43-4514-acf9-d1797f2eca84"
   },
   "outputs": [
    {
     "name": "stdout",
     "output_type": "stream",
     "text": [
      "Dataframe shape (6497, 12)\n",
      "\n",
      "Check type of data\n",
      "fixed acidity           float64\n",
      "volatile acidity        float64\n",
      "citric acid             float64\n",
      "residual sugar          float64\n",
      "chlorides               float64\n",
      "free sulfur dioxide     float64\n",
      "total sulfur dioxide    float64\n",
      "density                 float64\n",
      "pH                      float64\n",
      "sulphates               float64\n",
      "alcohol                 float64\n",
      "recommendation            int32\n",
      "dtype: object\n",
      "\n",
      "Check for na\n",
      "fixed acidity           0\n",
      "volatile acidity        0\n",
      "citric acid             0\n",
      "residual sugar          0\n",
      "chlorides               0\n",
      "free sulfur dioxide     0\n",
      "total sulfur dioxide    0\n",
      "density                 0\n",
      "pH                      0\n",
      "sulphates               0\n",
      "alcohol                 0\n",
      "recommendation          0\n",
      "dtype: int64\n"
     ]
    }
   ],
   "source": [
    "print(\"Dataframe shape\", data.shape)\n",
    "print()\n",
    "print(\"Check type of data\")\n",
    "print(data.dtypes)\n",
    "print()\n",
    "print(\"Check for na\")\n",
    "print(data.isna().sum())"
   ]
  },
  {
   "cell_type": "markdown",
   "metadata": {},
   "source": [
    "## Target Class Distribution\n",
    "The dataset contains 19.7% positive classes (recommended = 1) and 80.3% negative classes (recommended = 0). While the imbalance is not extreme, the difference in target class distribution is significant, given that the dataset contains only 6,497 records.  \n",
    "  \n",
    "To address class imbalance, several strategies can be considered:  \n",
    "  \n",
    "1. **Data Augmentation:** Generate additional samples for the underrepresented class.  \n",
    "2. **Stratified Splitting:** Ensure that both training and testing datasets are representative of the target class distribution.  \n",
    "3. **Class Weight Adjustment:** Assign higher weights to the underrepresented class during model training.\n",
    "  \n",
    "Since the primary objective of the project was to evaluate model performance rather than directly addressing class imbalance, the dataset was not explicitly balanced. Instead, stratified k-fold cross-validation was employed to ensure that each fold in the cross-validation process contained a representative subset of the target class distribution. Additionally, for experimentation, class weights were adjusted for some selected models to account for the imbalance."
   ]
  },
  {
   "cell_type": "code",
   "execution_count": 9,
   "metadata": {
    "colab": {
     "base_uri": "https://localhost:8080/",
     "height": 448
    },
    "id": "1VwQ1LMv6wT6",
    "outputId": "824c0916-96a9-40db-b611-8a8033b3c99a"
   },
   "outputs": [
    {
     "data": {
      "image/png": "[encoded data removed]",
      "text/plain": [
       "<Figure size 640x480 with 1 Axes>"
      ]
     },
     "metadata": {},
     "output_type": "display_data"
    }
   ],
   "source": [
    "class_dist = data[\"recommendation\"].value_counts().sort_index()\n",
    "plt.pie(class_dist.values, labels=class_dist.index, autopct='%1.1f%%')\n",
    "\n",
    "plt.title(\"Check for imbalanced data\")\n",
    "\n",
    "plt.show()"
   ]
  },
  {
   "cell_type": "markdown",
   "metadata": {},
   "source": [
    "## Attribute collinearity Analysis\n",
    "As suggested by the correlation matrix heatmap, there are moderate to strong positive and negative correlations between several pairs of features. (Fixed Acidity, Citric Acid), (Free Sulfur Dioxide, Total Sulfur Dioxide), and (Density, Residual Sugar) have high positive correlation. (Alcohol, Density), (Alcohol, Residual Sugar) and (Residual Sugar, pH) have high negative correlation. The high correlations indicate potential multicollinearity, which could affect model performance and interpretation.  \n",
    "\n",
    "The Variance Inflation Factor (VIF) table quantifies the multicollinearity among features, with a VIF value above 10 typically indicating high multicollinearity. High VIF values of density, pH, alcohol, and fixed acidity suggest multicollinearity issues.  \n",
    "\n",
    "Both the heatmap and VIF values indicate high multicollinearity among several features, especially Density, pH, and Alcohol. This may impact model interpretability and could lead to issues in certain machine learning models that are sensitive to multicollinearity."
   ]
  },
  {
   "cell_type": "code",
   "execution_count": 10,
   "metadata": {
    "colab": {
     "base_uri": "https://localhost:8080/",
     "height": 555
    },
    "id": "Inf7GaKa8s5K",
    "outputId": "c215fe0c-fc35-49a4-93e8-6c0704c34de2"
   },
   "outputs": [
    {
     "data": {
      "image/png": "[encoded data removed]",
      "text/plain": [
       "<Figure size 640x480 with 2 Axes>"
      ]
     },
     "metadata": {},
     "output_type": "display_data"
    }
   ],
   "source": [
    "corr_matrix = data.corr(numeric_only = True)\n",
    "\n",
    "sns.heatmap(corr_matrix, annot=False, cmap='coolwarm')\n",
    "\n",
    "plt.title('Correlation Matrix Heatmap')\n",
    "\n",
    "plt.show()"
   ]
  },
  {
   "cell_type": "code",
   "execution_count": 12,
   "metadata": {
    "colab": {
     "base_uri": "https://localhost:8080/"
    },
    "id": "eE3QtPDuC-BP",
    "outputId": "61e9bec4-bbd6-4f17-fdc5-c99823baccd3"
   },
   "outputs": [
    {
     "name": "stdout",
     "output_type": "stream",
     "text": [
      "                 Feature         VIF\n",
      "0          fixed acidity   58.897405\n",
      "1       volatile acidity    8.943681\n",
      "2            citric acid    9.340251\n",
      "3         residual sugar    3.576148\n",
      "4              chlorides    5.575434\n",
      "5    free sulfur dioxide    8.452180\n",
      "6   total sulfur dioxide   14.732237\n",
      "7                density  936.984064\n",
      "8                     pH  589.005172\n",
      "9              sulphates   18.491253\n",
      "10               alcohol  107.135452\n"
     ]
    }
   ],
   "source": [
    "from statsmodels.stats.outliers_influence import variance_inflation_factor\n",
    "\n",
    "X = data.drop(columns=['recommendation'])\n",
    "\n",
    "vif_data = pd.DataFrame()\n",
    "vif_data['Feature'] = X.columns\n",
    "vif_data['VIF'] = [variance_inflation_factor(X.values, i) for i in range(X.shape[1])]\n",
    "\n",
    "print(vif_data)"
   ]
  },
  {
   "cell_type": "markdown",
   "metadata": {
    "id": "PpgUfIITRzGB"
   },
   "source": [
    "# Model Selection\n",
    "  \n",
    "1. **RandomForest**:  Given the high Variance Inflation Factor (VIF) values for features like \"density\" and \"pH,\" Random Forest can mitigate the risk of overfitting caused by correlated features by averaging across multiple decision trees. As indicated by the pie chart (80.3% for one class and 19.7% for the other), the dataset chosen for this project is imbalanced. Random Forest tends to be more resilient with imbalanced data when class weights are adjusted.  \n",
    "2. **Decision Trees**: The correlation matrix shows that the features have a complex relationship. Decision Trees can capture non-linear relationships between features and the target class.  \n",
    "3. **Conv1D**: Given the high VIF values, as the CNN can learn more robust representations of the data, minimizing multicollinearity's effects. CNNs can also be fine-tuned with techniques like class weights, which helps the model focus on minority classes.\n"
   ]
  },
  {
   "cell_type": "markdown",
   "metadata": {
    "id": "ViBETP2w3L2c"
   },
   "source": [
    "## Random Forest"
   ]
  },
  {
   "cell_type": "code",
   "execution_count": 13,
   "metadata": {
    "id": "COzCXdT73N4C"
   },
   "outputs": [],
   "source": [
    "from sklearn.ensemble import RandomForestClassifier\n",
    "\n",
    "# adjusting class weigths in this model\n",
    "rf = RandomForestClassifier(class_weight=\"balanced\")\n",
    "\n",
    "def predict_with_random_forest(X_train, y_train, X_test):\n",
    "  rf.fit(X_train, y_train)\n",
    "\n",
    "  y_pred = rf.predict(X_test)\n",
    "  y_prob = rf.predict_proba(X_test)\n",
    "  return y_pred, y_prob[:,1]"
   ]
  },
  {
   "cell_type": "markdown",
   "metadata": {
    "id": "o6jFwDSo3OMQ"
   },
   "source": [
    "## Decision tree"
   ]
  },
  {
   "cell_type": "code",
   "execution_count": 14,
   "metadata": {
    "id": "Wk_zFJst3YEc"
   },
   "outputs": [],
   "source": [
    "from sklearn.tree import DecisionTreeClassifier\n",
    "\n",
    "dt = DecisionTreeClassifier()\n",
    "def predict_with_decision_tree(X_train, y_train, X_test):\n",
    "  dt.fit(X_train, y_train)\n",
    "\n",
    "  y_pred = dt.predict(X_test)\n",
    "  y_prob = dt.predict_proba(X_test)\n",
    "  return y_pred, y_prob[:,1]"
   ]
  },
  {
   "cell_type": "markdown",
   "metadata": {
    "id": "XcoIZCFL3YPr"
   },
   "source": [
    "## Conv1D"
   ]
  },
  {
   "cell_type": "code",
   "execution_count": 16,
   "metadata": {
    "id": "v1dZ5STD34Qy"
   },
   "outputs": [],
   "source": [
    "from tensorflow.keras.models import Sequential\n",
    "from tensorflow.keras.layers import Conv1D, MaxPooling1D, Flatten, Dense, Dropout, Input\n",
    "from tensorflow.keras.optimizers import Adam\n",
    "from sklearn.utils.class_weight import compute_class_weight\n",
    "\n",
    "model = None\n",
    "def predict_with_conv1d(X_train, y_train, X_test):\n",
    "  global model\n",
    "\n",
    "  # Calculate class weights based on the training labels\n",
    "  class_weights = compute_class_weight(class_weight='balanced', classes=np.unique(y_train), y=y_train)\n",
    "  class_weights = {i: weight for i, weight in enumerate(class_weights)}\n",
    "\n",
    "  if model is None:\n",
    "    model = Sequential()\n",
    "    model.add(Input(shape= (X_train.shape[1], 1)))\n",
    "    model.add(Conv1D(filters=32, kernel_size=2, activation='relu'))\n",
    "    model.add(Dropout(0.2))\n",
    "    model.add(Flatten())\n",
    "    model.add(Dense(64, activation='relu'))\n",
    "    model.add(Dense(1, activation='sigmoid'))\n",
    "    model.compile(optimizer=Adam(learning_rate=0.001), loss='binary_crossentropy', metrics=['accuracy'])\n",
    "  # Fit the model with class weights\n",
    "  history = model.fit(X_train.values, y_train.values, epochs=10, batch_size=32, verbose=0, class_weight=class_weights)\n",
    "  y_pred = model.predict(X_test)\n",
    "  return y_pred\n"
   ]
  },
  {
   "cell_type": "markdown",
   "metadata": {
    "id": "j6u2wF7VgDtE"
   },
   "source": [
    "# Util Functions"
   ]
  },
  {
   "cell_type": "code",
   "execution_count": 17,
   "metadata": {},
   "outputs": [],
   "source": [
    "from typing import TypedDict\n",
    "\n",
    "class Measures(TypedDict):\n",
    "    tp: int\n",
    "    tn: int\n",
    "    fp: int\n",
    "    fn: int\n",
    "    tpr: float\n",
    "    tnr: float\n",
    "    precision: float\n",
    "    npv: float\n",
    "    fpr: float\n",
    "    fdr: float\n",
    "    fnr: float\n",
    "    acc: float\n",
    "    f1: float\n",
    "    err_rate: float\n",
    "    bacc: float\n",
    "    tss: float\n",
    "    hss: float\n",
    "    bss: float\n",
    "    auc: float"
   ]
  },
  {
   "cell_type": "code",
   "execution_count": 18,
   "metadata": {},
   "outputs": [],
   "source": [
    "from sklearn.metrics import confusion_matrix\n",
    "\n",
    "def get_classification_outcomes(y_true, y_pred):\n",
    "  tn, fp, fn, tp = confusion_matrix(y_true, y_pred).ravel()\n",
    "  return tn, fp, fn, tp"
   ]
  },
  {
   "cell_type": "code",
   "execution_count": 19,
   "metadata": {},
   "outputs": [],
   "source": [
    "def safe_divide(numerator, denominator):\n",
    "    if denominator == 0:\n",
    "      return 0\n",
    "    else:\n",
    "      return numerator / denominator"
   ]
  },
  {
   "cell_type": "code",
   "execution_count": 20,
   "metadata": {
    "id": "N3KR37hlgC7C"
   },
   "outputs": [],
   "source": [
    "def find_auc(y_true, y_prob):\n",
    "  df = pd.DataFrame({\"actual\": y_true, \"probability\": y_prob})\n",
    "  df = df.sort_values(by=\"probability\", ascending=True)\n",
    "  TPR = []\n",
    "  FPR = []\n",
    "  for i in range(len(y_prob)):\n",
    "    df[\"predicted\"] = np.hstack([np.zeros(i), np.ones(len(y_prob) - i)])\n",
    "    tp = sum((df[\"actual\"] == 1) & (df[\"predicted\"] == 1))\n",
    "    fp = sum((df[\"actual\"] == 0) & (df[\"predicted\"] == 1))\n",
    "    tn = sum((df[\"actual\"] == 0) & (df[\"predicted\"] == 0))\n",
    "    fn = sum((df[\"actual\"] == 1) & (df[\"predicted\"] == 0))\n",
    "    tpr = safe_divide(tp, (tp + fn))\n",
    "    fpr = safe_divide(fp, (tn + fp))\n",
    "    TPR.append(tpr)\n",
    "    FPR.append(fpr)\n",
    "\n",
    "  auc = np.abs(np.trapezoid(TPR, FPR))\n",
    "  return auc"
   ]
  },
  {
   "cell_type": "code",
   "execution_count": 21,
   "metadata": {},
   "outputs": [],
   "source": [
    "def calc_bss(y_true, bs):\n",
    "  # BS_ref requires a reference model to compare the performance\n",
    "  return 1 - safe_divide(bs, bs_ref)"
   ]
  },
  {
   "cell_type": "code",
   "execution_count": 22,
   "metadata": {},
   "outputs": [],
   "source": [
    "from sklearn.metrics import brier_score_loss\n",
    "\n",
    "def calculate_measures(y_true, y_pred, y_prob) -> Measures:\n",
    "  measures = {}\n",
    "  tn, fp, fn, tp = get_classification_outcomes(y_true, y_pred)\n",
    "  p = tp + fn\n",
    "  n = tn + fp\n",
    "  measures['tp'] = tp\n",
    "  measures['tn'] = tn\n",
    "  measures['fp'] = fp\n",
    "  measures['fn'] = fn\n",
    "  measures['tpr'] = safe_divide(tp, p)\n",
    "  measures['tnr'] = safe_divide(tn, n)\n",
    "  measures['precision'] = safe_divide(tp, (fp + tp))\n",
    "  measures['npv'] = safe_divide(tn, (tn + fn))\n",
    "  measures['fpr'] = safe_divide(fp, n)\n",
    "  measures['fdr'] = safe_divide(fp, (fp + tp))\n",
    "  measures['fnr'] = safe_divide(fn, p)\n",
    "  measures['acc'] = safe_divide((tp + tn), (p + n))\n",
    "  measures['f1'] = safe_divide((2 * measures['precision'] * measures['tpr']), (measures['precision'] + measures['tpr']))\n",
    "  measures['err_rate'] = safe_divide((fp + fn), (p + n))\n",
    "  measures['bacc'] = (measures['tpr'] + measures['tnr']) / 2\n",
    "  measures['tss'] = (safe_divide(tp, (fn + tp))) - (safe_divide(fp, (fp + tn)))\n",
    "  measures['hss'] = safe_divide(2 * ((tp * tn) - (fp * fn)), ((tp + fn) * (fn + tn) + (tp + fp) * (fp + tn)))\n",
    "\n",
    "  measures['bs'] = brier_score_loss(y_true = y_true, y_proba = y_prob) \n",
    "  # measures['bss'] = calc_bss(y_true, measures['bs'])\n",
    "  measures['auc'] = find_auc(y_true, y_prob)\n",
    "\n",
    "  return Measures(measures)"
   ]
  },
  {
   "cell_type": "code",
   "execution_count": 23,
   "metadata": {
    "id": "o9FoOhJWS-9L"
   },
   "outputs": [],
   "source": [
    "#### Visualize measure in each fold\n",
    "from typing import Dict, List\n",
    "\n",
    "def viz_measures_k_fold(k, **kwargs: Measures):\n",
    "  suffix = 'th'\n",
    "  if k%10 == 1: suffix = 'st'\n",
    "  elif k%10 == 2: suffix = 'nd'\n",
    "  elif k%10 == 3: suffix = 'rd'\n",
    "  print()\n",
    "  print('Visualizing Model Performance', f'in {k}{suffix} fold:' if k > 0 else '')\n",
    "  print(f\"{'Measure':<13}\", end='')\n",
    "  for model in kwargs.keys():\n",
    "    print(f'{model:<13}', end='')\n",
    "  print()\n",
    "  tup = next(iter(kwargs.items()))\n",
    "  for measure in tup[1].keys():\n",
    "    print(f'{measure:<13}', end='')\n",
    "    for _, measures in kwargs.items():\n",
    "      print(f'{measures[measure]:<13.2f}', end='')\n",
    "    print()\n",
    "  print()\n",
    "\n",
    "def viz_measures_model(model, measures: List[Measures]):\n",
    "  print()\n",
    "  print('Visualizing ', model, 'Performance in Each Fold')\n",
    "  print(f\"{'Measure':<13}\", end='')\n",
    "  for fold in range(1, 11):\n",
    "    print(f'{fold:<13}', end='')\n",
    "  print()\n",
    "  for measure in measures[0].keys():\n",
    "    print(f'{measure:<13}', end='')\n",
    "    for k_measures in measures:\n",
    "      print(f'{k_measures[measure]:<13.2f}', end='')\n",
    "    print()\n",
    "  print()"
   ]
  },
  {
   "cell_type": "markdown",
   "metadata": {
    "id": "-fofjgcPS4tw"
   },
   "source": [
    "# Train and test dataset preparation"
   ]
  },
  {
   "cell_type": "code",
   "execution_count": 24,
   "metadata": {},
   "outputs": [],
   "source": [
    "from sklearn.model_selection import train_test_split\n",
    "\n",
    "y = data[\"recommendation\"]\n",
    "X = data.drop(\"recommendation\", axis=1)\n",
    "data_X_train, data_X_test, data_y_train, data_y_test = train_test_split(X, y, test_size=0.33, random_state=42)"
   ]
  },
  {
   "cell_type": "markdown",
   "metadata": {},
   "source": [
    "# Model Metrics Calculation"
   ]
  },
  {
   "cell_type": "code",
   "execution_count": 25,
   "metadata": {
    "colab": {
     "base_uri": "https://localhost:8080/"
    },
    "id": "NhqU2i4JS0wA",
    "outputId": "d616d029-57dc-4312-862d-3041548105fd"
   },
   "outputs": [
    {
     "name": "stdout",
     "output_type": "stream",
     "text": [
      "\u001b[1m14/14\u001b[0m \u001b[32m━━━━━━━━━━━━━━━━━━━━\u001b[0m\u001b[37m\u001b[0m \u001b[1m0s\u001b[0m 2ms/step \n",
      "\n",
      "Visualizing Model Performance in 1st fold:\n",
      "Measure      RandomForest DecisionTree Conv1D       \n",
      "tp           38.00        45.00        58.00        \n",
      "tn           353.00       336.00       163.00       \n",
      "fp           10.00        27.00        200.00       \n",
      "fn           35.00        28.00        15.00        \n",
      "tpr          0.52         0.62         0.79         \n",
      "tnr          0.97         0.93         0.45         \n",
      "precision    0.79         0.62         0.22         \n",
      "npv          0.91         0.92         0.92         \n",
      "fpr          0.03         0.07         0.55         \n",
      "fdr          0.21         0.38         0.78         \n",
      "fnr          0.48         0.38         0.21         \n",
      "acc          0.90         0.87         0.51         \n",
      "f1           0.63         0.62         0.35         \n",
      "err_rate     0.10         0.13         0.49         \n",
      "bacc         0.75         0.77         0.62         \n",
      "tss          0.49         0.54         0.24         \n",
      "hss          0.57         0.55         0.12         \n",
      "bs           0.08         0.13         0.26         \n",
      "auc          0.92         0.77         0.72         \n",
      "\n",
      "\u001b[1m14/14\u001b[0m \u001b[32m━━━━━━━━━━━━━━━━━━━━\u001b[0m\u001b[37m\u001b[0m \u001b[1m0s\u001b[0m 384us/step\n",
      "\n",
      "Visualizing Model Performance in 2nd fold:\n",
      "Measure      RandomForest DecisionTree Conv1D       \n",
      "tp           49.00        46.00        55.00        \n",
      "tn           354.00       327.00       235.00       \n",
      "fp           5.00         32.00        124.00       \n",
      "fn           28.00        31.00        22.00        \n",
      "tpr          0.64         0.60         0.71         \n",
      "tnr          0.99         0.91         0.65         \n",
      "precision    0.91         0.59         0.31         \n",
      "npv          0.93         0.91         0.91         \n",
      "fpr          0.01         0.09         0.35         \n",
      "fdr          0.09         0.41         0.69         \n",
      "fnr          0.36         0.40         0.29         \n",
      "acc          0.92         0.86         0.67         \n",
      "f1           0.75         0.59         0.43         \n",
      "err_rate     0.08         0.14         0.33         \n",
      "bacc         0.81         0.75         0.68         \n",
      "tss          0.62         0.51         0.37         \n",
      "hss          0.71         0.51         0.24         \n",
      "bs           0.06         0.14         0.20         \n",
      "auc          0.94         0.78         0.77         \n",
      "\n",
      "\u001b[1m14/14\u001b[0m \u001b[32m━━━━━━━━━━━━━━━━━━━━\u001b[0m\u001b[37m\u001b[0m \u001b[1m0s\u001b[0m 429us/step\n",
      "\n",
      "Visualizing Model Performance in 3rd fold:\n",
      "Measure      RandomForest DecisionTree Conv1D       \n",
      "tp           40.00        45.00        60.00        \n",
      "tn           353.00       320.00       231.00       \n",
      "fp           8.00         41.00        130.00       \n",
      "fn           34.00        29.00        14.00        \n",
      "tpr          0.54         0.61         0.81         \n",
      "tnr          0.98         0.89         0.64         \n",
      "precision    0.83         0.52         0.32         \n",
      "npv          0.91         0.92         0.94         \n",
      "fpr          0.02         0.11         0.36         \n",
      "fdr          0.17         0.48         0.68         \n",
      "fnr          0.46         0.39         0.19         \n",
      "acc          0.90         0.84         0.67         \n",
      "f1           0.66         0.56         0.45         \n",
      "err_rate     0.10         0.16         0.33         \n",
      "bacc         0.76         0.75         0.73         \n",
      "tss          0.52         0.49         0.45         \n",
      "hss          0.60         0.46         0.28         \n",
      "bs           0.07         0.16         0.22         \n",
      "auc          0.92         0.76         0.80         \n",
      "\n",
      "\u001b[1m14/14\u001b[0m \u001b[32m━━━━━━━━━━━━━━━━━━━━\u001b[0m\u001b[37m\u001b[0m \u001b[1m0s\u001b[0m 427us/step\n",
      "\n",
      "Visualizing Model Performance in 4th fold:\n",
      "Measure      RandomForest DecisionTree Conv1D       \n",
      "tp           45.00        58.00        74.00        \n",
      "tn           338.00       316.00       211.00       \n",
      "fp           11.00        33.00        138.00       \n",
      "fn           41.00        28.00        12.00        \n",
      "tpr          0.52         0.67         0.86         \n",
      "tnr          0.97         0.91         0.60         \n",
      "precision    0.80         0.64         0.35         \n",
      "npv          0.89         0.92         0.95         \n",
      "fpr          0.03         0.09         0.40         \n",
      "fdr          0.20         0.36         0.65         \n",
      "fnr          0.48         0.33         0.14         \n",
      "acc          0.88         0.86         0.66         \n",
      "f1           0.63         0.66         0.50         \n",
      "err_rate     0.12         0.14         0.34         \n",
      "bacc         0.75         0.79         0.73         \n",
      "tss          0.49         0.58         0.47         \n",
      "hss          0.57         0.57         0.30         \n",
      "bs           0.08         0.14         0.21         \n",
      "auc          0.92         0.76         0.83         \n",
      "\n",
      "\u001b[1m14/14\u001b[0m \u001b[32m━━━━━━━━━━━━━━━━━━━━\u001b[0m\u001b[37m\u001b[0m \u001b[1m0s\u001b[0m 431us/step\n",
      "\n",
      "Visualizing Model Performance in 5th fold:\n",
      "Measure      RandomForest DecisionTree Conv1D       \n",
      "tp           35.00        37.00        53.00        \n",
      "tn           366.00       341.00       262.00       \n",
      "fp           5.00         30.00        109.00       \n",
      "fn           29.00        27.00        11.00        \n",
      "tpr          0.55         0.58         0.83         \n",
      "tnr          0.99         0.92         0.71         \n",
      "precision    0.88         0.55         0.33         \n",
      "npv          0.93         0.93         0.96         \n",
      "fpr          0.01         0.08         0.29         \n",
      "fdr          0.12         0.45         0.67         \n",
      "fnr          0.45         0.42         0.17         \n",
      "acc          0.92         0.87         0.72         \n",
      "f1           0.67         0.56         0.47         \n",
      "err_rate     0.08         0.13         0.28         \n",
      "bacc         0.77         0.75         0.77         \n",
      "tss          0.53         0.50         0.53         \n",
      "hss          0.63         0.49         0.33         \n",
      "bs           0.06         0.13         0.20         \n",
      "auc          0.93         0.67         0.84         \n",
      "\n",
      "\u001b[1m14/14\u001b[0m \u001b[32m━━━━━━━━━━━━━━━━━━━━\u001b[0m\u001b[37m\u001b[0m \u001b[1m0s\u001b[0m 381us/step\n",
      "\n",
      "Visualizing Model Performance in 6th fold:\n",
      "Measure      RandomForest DecisionTree Conv1D       \n",
      "tp           47.00        51.00        64.00        \n",
      "tn           348.00       311.00       248.00       \n",
      "fp           11.00        48.00        111.00       \n",
      "fn           29.00        25.00        12.00        \n",
      "tpr          0.62         0.67         0.84         \n",
      "tnr          0.97         0.87         0.69         \n",
      "precision    0.81         0.52         0.37         \n",
      "npv          0.92         0.93         0.95         \n",
      "fpr          0.03         0.13         0.31         \n",
      "fdr          0.19         0.48         0.63         \n",
      "fnr          0.38         0.33         0.16         \n",
      "acc          0.91         0.83         0.72         \n",
      "f1           0.70         0.58         0.51         \n",
      "err_rate     0.09         0.17         0.28         \n",
      "bacc         0.79         0.77         0.77         \n",
      "tss          0.59         0.54         0.53         \n",
      "hss          0.65         0.48         0.35         \n",
      "bs           0.07         0.17         0.19         \n",
      "auc          0.93         0.74         0.86         \n",
      "\n",
      "\u001b[1m14/14\u001b[0m \u001b[32m━━━━━━━━━━━━━━━━━━━━\u001b[0m\u001b[37m\u001b[0m \u001b[1m0s\u001b[0m 431us/step\n",
      "\n",
      "Visualizing Model Performance in 7th fold:\n",
      "Measure      RandomForest DecisionTree Conv1D       \n",
      "tp           46.00        53.00        77.00        \n",
      "tn           342.00       320.00       231.00       \n",
      "fp           9.00         31.00        120.00       \n",
      "fn           38.00        31.00        7.00         \n",
      "tpr          0.55         0.63         0.92         \n",
      "tnr          0.97         0.91         0.66         \n",
      "precision    0.84         0.63         0.39         \n",
      "npv          0.90         0.91         0.97         \n",
      "fpr          0.03         0.09         0.34         \n",
      "fdr          0.16         0.37         0.61         \n",
      "fnr          0.45         0.37         0.08         \n",
      "acc          0.89         0.86         0.71         \n",
      "f1           0.66         0.63         0.55         \n",
      "err_rate     0.11         0.14         0.29         \n",
      "bacc         0.76         0.77         0.79         \n",
      "tss          0.52         0.54         0.57         \n",
      "hss          0.60         0.54         0.38         \n",
      "bs           0.08         0.14         0.21         \n",
      "auc          0.93         0.75         0.85         \n",
      "\n",
      "\u001b[1m14/14\u001b[0m \u001b[32m━━━━━━━━━━━━━━━━━━━━\u001b[0m\u001b[37m\u001b[0m \u001b[1m0s\u001b[0m 427us/step\n",
      "\n",
      "Visualizing Model Performance in 8th fold:\n",
      "Measure      RandomForest DecisionTree Conv1D       \n",
      "tp           49.00        55.00        65.00        \n",
      "tn           340.00       312.00       259.00       \n",
      "fp           4.00         32.00        85.00        \n",
      "fn           42.00        36.00        26.00        \n",
      "tpr          0.54         0.60         0.71         \n",
      "tnr          0.99         0.91         0.75         \n",
      "precision    0.92         0.63         0.43         \n",
      "npv          0.89         0.90         0.91         \n",
      "fpr          0.01         0.09         0.25         \n",
      "fdr          0.08         0.37         0.57         \n",
      "fnr          0.46         0.40         0.29         \n",
      "acc          0.89         0.84         0.74         \n",
      "f1           0.68         0.62         0.54         \n",
      "err_rate     0.11         0.16         0.26         \n",
      "bacc         0.76         0.76         0.73         \n",
      "tss          0.53         0.51         0.47         \n",
      "hss          0.62         0.52         0.38         \n",
      "bs           0.08         0.16         0.17         \n",
      "auc          0.93         0.74         0.83         \n",
      "\n",
      "\u001b[1m14/14\u001b[0m \u001b[32m━━━━━━━━━━━━━━━━━━━━\u001b[0m\u001b[37m\u001b[0m \u001b[1m0s\u001b[0m 374us/step\n",
      "\n",
      "Visualizing Model Performance in 9th fold:\n",
      "Measure      RandomForest DecisionTree Conv1D       \n",
      "tp           45.00        52.00        66.00        \n",
      "tn           341.00       322.00       252.00       \n",
      "fp           8.00         27.00        97.00        \n",
      "fn           41.00        34.00        20.00        \n",
      "tpr          0.52         0.60         0.77         \n",
      "tnr          0.98         0.92         0.72         \n",
      "precision    0.85         0.66         0.40         \n",
      "npv          0.89         0.90         0.93         \n",
      "fpr          0.02         0.08         0.28         \n",
      "fdr          0.15         0.34         0.60         \n",
      "fnr          0.48         0.40         0.23         \n",
      "acc          0.89         0.86         0.73         \n",
      "f1           0.65         0.63         0.53         \n",
      "err_rate     0.11         0.14         0.27         \n",
      "bacc         0.75         0.76         0.74         \n",
      "tss          0.50         0.53         0.49         \n",
      "hss          0.58         0.54         0.37         \n",
      "bs           0.09         0.14         0.18         \n",
      "auc          0.90         0.74         0.82         \n",
      "\n",
      "\u001b[1m14/14\u001b[0m \u001b[32m━━━━━━━━━━━━━━━━━━━━\u001b[0m\u001b[37m\u001b[0m \u001b[1m0s\u001b[0m 417us/step\n",
      "\n",
      "Visualizing Model Performance in 10th fold:\n",
      "Measure      RandomForest DecisionTree Conv1D       \n",
      "tp           38.00        46.00        62.00        \n",
      "tn           358.00       328.00       264.00       \n",
      "fp           7.00         37.00        101.00       \n",
      "fn           32.00        24.00        8.00         \n",
      "tpr          0.54         0.66         0.89         \n",
      "tnr          0.98         0.90         0.72         \n",
      "precision    0.84         0.55         0.38         \n",
      "npv          0.92         0.93         0.97         \n",
      "fpr          0.02         0.10         0.28         \n",
      "fdr          0.16         0.45         0.62         \n",
      "fnr          0.46         0.34         0.11         \n",
      "acc          0.91         0.86         0.75         \n",
      "f1           0.66         0.60         0.53         \n",
      "err_rate     0.09         0.14         0.25         \n",
      "bacc         0.76         0.78         0.80         \n",
      "tss          0.52         0.56         0.61         \n",
      "hss          0.61         0.52         0.40         \n",
      "bs           0.07         0.14         0.16         \n",
      "auc          0.94         0.77         0.88         \n",
      "\n"
     ]
    }
   ],
   "source": [
    "from sklearn.model_selection import StratifiedKFold\n",
    "\n",
    "rf_measures = []\n",
    "dt_measures = []\n",
    "conv1D_measures = []\n",
    "\n",
    "### Ensures each fold has the same proportion of classes as the complete dataset.\n",
    "kf = StratifiedKFold(n_splits=10, shuffle=True, random_state=42)\n",
    "\n",
    "for idx, (train_index, test_index) in enumerate(kf.split(data_X_train, data_y_train), start = 1):\n",
    "    X_train, X_test = X.iloc[train_index], X.iloc[test_index]\n",
    "    y_train, y_test = y.iloc[train_index], y.iloc[test_index]\n",
    "\n",
    "    rf_pred, rf_prob = predict_with_random_forest(X_train, y_train, X_test)\n",
    "    measures = calculate_measures(y_test, rf_pred, rf_prob)\n",
    "    rf_measures.append(measures)\n",
    "\n",
    "\n",
    "    dt_pred, dt_prob = predict_with_decision_tree(X_train, y_train, X_test)\n",
    "    measures = calculate_measures(y_test, dt_pred, dt_prob)\n",
    "    dt_measures.append(measures)\n",
    "\n",
    "    conv1d_prob = predict_with_conv1d(X_train, y_train, X_test)\n",
    "    conv1d_pred = (conv1d_prob > 0.5).astype(int)\n",
    "    measures = calculate_measures(y_test, [item for row in conv1d_pred for item in row], conv1d_prob.flatten())\n",
    "    conv1D_measures.append(measures)\n",
    "\n",
    "    viz_measures_k_fold(idx, RandomForest = rf_measures[idx - 1], DecisionTree=dt_measures[idx - 1], Conv1D=conv1D_measures[idx - 1])"
   ]
  },
  {
   "cell_type": "code",
   "execution_count": 26,
   "metadata": {
    "id": "-1MgjnJlfza3"
   },
   "outputs": [
    {
     "name": "stdout",
     "output_type": "stream",
     "text": [
      "\n",
      "Visualizing  Random Forest Performance in Each Fold\n",
      "Measure      1            2            3            4            5            6            7            8            9            10           \n",
      "tp           38.00        49.00        40.00        45.00        35.00        47.00        46.00        49.00        45.00        38.00        \n",
      "tn           353.00       354.00       353.00       338.00       366.00       348.00       342.00       340.00       341.00       358.00       \n",
      "fp           10.00        5.00         8.00         11.00        5.00         11.00        9.00         4.00         8.00         7.00         \n",
      "fn           35.00        28.00        34.00        41.00        29.00        29.00        38.00        42.00        41.00        32.00        \n",
      "tpr          0.52         0.64         0.54         0.52         0.55         0.62         0.55         0.54         0.52         0.54         \n",
      "tnr          0.97         0.99         0.98         0.97         0.99         0.97         0.97         0.99         0.98         0.98         \n",
      "precision    0.79         0.91         0.83         0.80         0.88         0.81         0.84         0.92         0.85         0.84         \n",
      "npv          0.91         0.93         0.91         0.89         0.93         0.92         0.90         0.89         0.89         0.92         \n",
      "fpr          0.03         0.01         0.02         0.03         0.01         0.03         0.03         0.01         0.02         0.02         \n",
      "fdr          0.21         0.09         0.17         0.20         0.12         0.19         0.16         0.08         0.15         0.16         \n",
      "fnr          0.48         0.36         0.46         0.48         0.45         0.38         0.45         0.46         0.48         0.46         \n",
      "acc          0.90         0.92         0.90         0.88         0.92         0.91         0.89         0.89         0.89         0.91         \n",
      "f1           0.63         0.75         0.66         0.63         0.67         0.70         0.66         0.68         0.65         0.66         \n",
      "err_rate     0.10         0.08         0.10         0.12         0.08         0.09         0.11         0.11         0.11         0.09         \n",
      "bacc         0.75         0.81         0.76         0.75         0.77         0.79         0.76         0.76         0.75         0.76         \n",
      "tss          0.49         0.62         0.52         0.49         0.53         0.59         0.52         0.53         0.50         0.52         \n",
      "hss          0.57         0.71         0.60         0.57         0.63         0.65         0.60         0.62         0.58         0.61         \n",
      "bs           0.08         0.06         0.07         0.08         0.06         0.07         0.08         0.08         0.09         0.07         \n",
      "auc          0.92         0.94         0.92         0.92         0.93         0.93         0.93         0.93         0.90         0.94         \n",
      "\n"
     ]
    }
   ],
   "source": [
    "viz_measures_model(\"Random Forest\", rf_measures)"
   ]
  },
  {
   "cell_type": "code",
   "execution_count": 27,
   "metadata": {
    "id": "SnlDU_xwfr8f"
   },
   "outputs": [
    {
     "name": "stdout",
     "output_type": "stream",
     "text": [
      "\n",
      "Visualizing  Decision Tree Performance in Each Fold\n",
      "Measure      1            2            3            4            5            6            7            8            9            10           \n",
      "tp           45.00        46.00        45.00        58.00        37.00        51.00        53.00        55.00        52.00        46.00        \n",
      "tn           336.00       327.00       320.00       316.00       341.00       311.00       320.00       312.00       322.00       328.00       \n",
      "fp           27.00        32.00        41.00        33.00        30.00        48.00        31.00        32.00        27.00        37.00        \n",
      "fn           28.00        31.00        29.00        28.00        27.00        25.00        31.00        36.00        34.00        24.00        \n",
      "tpr          0.62         0.60         0.61         0.67         0.58         0.67         0.63         0.60         0.60         0.66         \n",
      "tnr          0.93         0.91         0.89         0.91         0.92         0.87         0.91         0.91         0.92         0.90         \n",
      "precision    0.62         0.59         0.52         0.64         0.55         0.52         0.63         0.63         0.66         0.55         \n",
      "npv          0.92         0.91         0.92         0.92         0.93         0.93         0.91         0.90         0.90         0.93         \n",
      "fpr          0.07         0.09         0.11         0.09         0.08         0.13         0.09         0.09         0.08         0.10         \n",
      "fdr          0.38         0.41         0.48         0.36         0.45         0.48         0.37         0.37         0.34         0.45         \n",
      "fnr          0.38         0.40         0.39         0.33         0.42         0.33         0.37         0.40         0.40         0.34         \n",
      "acc          0.87         0.86         0.84         0.86         0.87         0.83         0.86         0.84         0.86         0.86         \n",
      "f1           0.62         0.59         0.56         0.66         0.56         0.58         0.63         0.62         0.63         0.60         \n",
      "err_rate     0.13         0.14         0.16         0.14         0.13         0.17         0.14         0.16         0.14         0.14         \n",
      "bacc         0.77         0.75         0.75         0.79         0.75         0.77         0.77         0.76         0.76         0.78         \n",
      "tss          0.54         0.51         0.49         0.58         0.50         0.54         0.54         0.51         0.53         0.56         \n",
      "hss          0.55         0.51         0.46         0.57         0.49         0.48         0.54         0.52         0.54         0.52         \n",
      "bs           0.13         0.14         0.16         0.14         0.13         0.17         0.14         0.16         0.14         0.14         \n",
      "auc          0.77         0.78         0.76         0.76         0.67         0.74         0.75         0.74         0.74         0.77         \n",
      "\n"
     ]
    }
   ],
   "source": [
    "viz_measures_model(\"Decision Tree\", dt_measures)"
   ]
  },
  {
   "cell_type": "code",
   "execution_count": 28,
   "metadata": {
    "id": "rS8bMXyIf0ff"
   },
   "outputs": [
    {
     "name": "stdout",
     "output_type": "stream",
     "text": [
      "\n",
      "Visualizing  Conv 1D Performance in Each Fold\n",
      "Measure      1            2            3            4            5            6            7            8            9            10           \n",
      "tp           58.00        55.00        60.00        74.00        53.00        64.00        77.00        65.00        66.00        62.00        \n",
      "tn           163.00       235.00       231.00       211.00       262.00       248.00       231.00       259.00       252.00       264.00       \n",
      "fp           200.00       124.00       130.00       138.00       109.00       111.00       120.00       85.00        97.00        101.00       \n",
      "fn           15.00        22.00        14.00        12.00        11.00        12.00        7.00         26.00        20.00        8.00         \n",
      "tpr          0.79         0.71         0.81         0.86         0.83         0.84         0.92         0.71         0.77         0.89         \n",
      "tnr          0.45         0.65         0.64         0.60         0.71         0.69         0.66         0.75         0.72         0.72         \n",
      "precision    0.22         0.31         0.32         0.35         0.33         0.37         0.39         0.43         0.40         0.38         \n",
      "npv          0.92         0.91         0.94         0.95         0.96         0.95         0.97         0.91         0.93         0.97         \n",
      "fpr          0.55         0.35         0.36         0.40         0.29         0.31         0.34         0.25         0.28         0.28         \n",
      "fdr          0.78         0.69         0.68         0.65         0.67         0.63         0.61         0.57         0.60         0.62         \n",
      "fnr          0.21         0.29         0.19         0.14         0.17         0.16         0.08         0.29         0.23         0.11         \n",
      "acc          0.51         0.67         0.67         0.66         0.72         0.72         0.71         0.74         0.73         0.75         \n",
      "f1           0.35         0.43         0.45         0.50         0.47         0.51         0.55         0.54         0.53         0.53         \n",
      "err_rate     0.49         0.33         0.33         0.34         0.28         0.28         0.29         0.26         0.27         0.25         \n",
      "bacc         0.62         0.68         0.73         0.73         0.77         0.77         0.79         0.73         0.74         0.80         \n",
      "tss          0.24         0.37         0.45         0.47         0.53         0.53         0.57         0.47         0.49         0.61         \n",
      "hss          0.12         0.24         0.28         0.30         0.33         0.35         0.38         0.38         0.37         0.40         \n",
      "bs           0.26         0.20         0.22         0.21         0.20         0.19         0.21         0.17         0.18         0.16         \n",
      "auc          0.72         0.77         0.80         0.83         0.84         0.86         0.85         0.83         0.82         0.88         \n",
      "\n"
     ]
    }
   ],
   "source": [
    "viz_measures_model(\"Conv 1D\", conv1D_measures)"
   ]
  },
  {
   "cell_type": "code",
   "execution_count": 29,
   "metadata": {
    "colab": {
     "base_uri": "https://localhost:8080/"
    },
    "id": "2ZkHTqgPIo9L",
    "outputId": "0376ace7-9737-490d-89a7-8ef00ca981ea"
   },
   "outputs": [
    {
     "name": "stdout",
     "output_type": "stream",
     "text": [
      "\n",
      "Visualizing Model Performance \n",
      "Measure      RandomForest DecisionTree Conv1D       \n",
      "tp           43.20        48.80        63.40        \n",
      "tn           349.30       323.30       235.60       \n",
      "fp           7.80         33.80        121.50       \n",
      "fn           34.90        29.30        14.70        \n",
      "tpr          0.55         0.62         0.81         \n",
      "tnr          0.98         0.91         0.66         \n",
      "precision    0.85         0.59         0.35         \n",
      "npv          0.91         0.92         0.94         \n",
      "fpr          0.02         0.09         0.34         \n",
      "fdr          0.15         0.41         0.65         \n",
      "fnr          0.45         0.38         0.19         \n",
      "acc          0.90         0.86         0.69         \n",
      "f1           0.67         0.61         0.49         \n",
      "err_rate     0.10         0.14         0.31         \n",
      "bacc         0.77         0.76         0.74         \n",
      "tss          0.53         0.53         0.47         \n",
      "hss          0.61         0.52         0.31         \n",
      "bs           0.07         0.14         0.20         \n",
      "auc          0.93         0.75         0.82         \n",
      "\n"
     ]
    }
   ],
   "source": [
    "## Average measures\n",
    "def calc_avg_measures(measures):\n",
    "  fpr_values, tpr_values = [], []\n",
    "  avg = {}\n",
    "  metrics = measures[0].keys();\n",
    "  for metric in metrics:\n",
    "    for i in range(0, 10):\n",
    "      avg[metric] = avg.get(metric, 0) + measures[i][metric]\n",
    "      if metric == 'fpr':\n",
    "        fpr_values.append(measures[i][metric])\n",
    "      elif metric == 'tpr':\n",
    "        tpr_values.append(measures[i][metric])\n",
    "    avg[metric] = avg[metric] / 10\n",
    "  return avg\n",
    "\n",
    "viz_measures_k_fold(0, RandomForest = calc_avg_measures(rf_measures), DecisionTree=calc_avg_measures(dt_measures), Conv1D=calc_avg_measures(conv1D_measures))"
   ]
  },
  {
   "cell_type": "markdown",
   "metadata": {},
   "source": [
    "# Visualizing ROC and Evaluating AUC of models using Test Datasets"
   ]
  },
  {
   "cell_type": "code",
   "execution_count": 30,
   "metadata": {
    "id": "aXM0T7YiZXsT"
   },
   "outputs": [],
   "source": [
    "from sklearn.metrics import roc_curve, auc\n",
    "\n",
    "def visualize_roc(y_test, y_pred, predictor):\n",
    "  fpr, tpr, _ = roc_curve(y_test, y_pred)\n",
    "  roc_auc = auc(fpr, tpr)\n",
    "  plt.figure()\n",
    "  plt.plot(fpr, tpr, color=\"darkorange\", label=f'Area: {roc_auc:.2f}')\n",
    "  plt.plot([0, 1], [0, 1], color=\"navy\", linestyle=\"--\")\n",
    "  plt.xlim([0.0, 1.0])\n",
    "  plt.ylim([0.0, 1.05])\n",
    "  plt.xlabel(\"False Positive Rate\")\n",
    "  plt.ylabel(\"True Positive Rate\")\n",
    "  plt.title(f'ROC Curve for {predictor} Predictions')\n",
    "  plt.legend(loc=\"lower right\")\n",
    "  plt.show()"
   ]
  },
  {
   "cell_type": "code",
   "execution_count": 31,
   "metadata": {
    "id": "kxRgzhsSZcra"
   },
   "outputs": [
    {
     "data": {
      "image/png": "[encoded data removed]",
      "text/plain": [
       "<Figure size 640x480 with 1 Axes>"
      ]
     },
     "metadata": {},
     "output_type": "display_data"
    }
   ],
   "source": [
    "y_pred = rf.predict(data_X_test)\n",
    "visualize_roc(data_y_test, y_pred, \"Random Forest\")"
   ]
  },
  {
   "cell_type": "code",
   "execution_count": 32,
   "metadata": {
    "id": "gKlpsccSZddW",
    "scrolled": true
   },
   "outputs": [
    {
     "data": {
      "image/png": "[encoded data removed]",
      "text/plain": [
       "<Figure size 640x480 with 1 Axes>"
      ]
     },
     "metadata": {},
     "output_type": "display_data"
    }
   ],
   "source": [
    "y_pred = dt.predict(data_X_test)\n",
    "visualize_roc(data_y_test, y_pred, \"Decision Tree\")"
   ]
  },
  {
   "cell_type": "code",
   "execution_count": 33,
   "metadata": {
    "id": "kYkGdXE6ZfNR"
   },
   "outputs": [
    {
     "name": "stdout",
     "output_type": "stream",
     "text": [
      "\u001b[1m68/68\u001b[0m \u001b[32m━━━━━━━━━━━━━━━━━━━━\u001b[0m\u001b[37m\u001b[0m \u001b[1m0s\u001b[0m 355us/step\n"
     ]
    },
    {
     "data": {
      "image/png": "[encoded data removed]",
      "text/plain": [
       "<Figure size 640x480 with 1 Axes>"
      ]
     },
     "metadata": {},
     "output_type": "display_data"
    }
   ],
   "source": [
    "y_pred = model.predict(data_X_test)\n",
    "visualize_roc(data_y_test, y_pred, \"Conv1D\")"
   ]
  },
  {
   "cell_type": "markdown",
   "metadata": {},
   "source": [
    "# Evaluating Models\n",
    "## Analysing models by individual performance metric\n",
    "\n",
    "Metrics like accuracy, FPR, and FNR can be misleading because our dataset is imbalanced. However, metrics such as F1, AUC, and balanced accuracy provide more insight into the model's performance, especially for the minority class.\n",
    "Multicollinearity can distort model coefficients and cause instability, potentially making precision, recall, and AUC less reliable and leading to higher error rates. Multicollinearity usually results in less interpretable models, which may affect the reliability of all metrics, particularly those dependent on feature weights or coefficients.  \n",
    "  \n",
    "- **False Positive (FP):** Random Forest had the lowest false positives (7.80), suggesting that it performs best in minimizing incorrect wine recommendations. This makes Random Forest preferable if minimizing false positives is a priority.  \n",
    "  \n",
    "- **True Negative Rate (TNR):** Random Forest had the highest TNR (0.98), indicating high reliability in identifying wines that should not be recommended. This metric is essential as it demonstrates the model’s strength in handling multicollinearity while accurately predicting negatives.  \n",
    "  \n",
    "- **Negative Predictive Value (NPV):** Although Decision Tree has a high NPV, Random Forest also performs well (0.91). Since class weights were adjusted, 1D ConvNet’s high NPV (0.94) could suggest it handles negative class predictions effectively in this dataset.  \n",
    "  \n",
    "- **False Discovery Rate (FDR):** Random Forest’s FDR (0.15) is the lowest among the models, suggesting it has the fewest incorrect positive predictions relative to total positive predictions. This reinforces Random Forest as a robust choice for minimizing false discoveries.  \n",
    "  \n",
    "- **F1-Score:** Random Forest had an F1-score of 0.67, which is better than Decision Tree (0.61) and Conv1D (0.49). The higher F1-score indicates that Random Forest maintains a good balance between precision and recall, which is beneficial for imbalanced datasets.  \n",
    "  \n",
    "- **Error Rate (Err Rate):** Random Forest had the lowest error rate (0.10), indicating fewer overall prediction errors compared to Decision Tree (0.14) and Conv1D (0.30). This further supports Random Forest's effectiveness in this dataset.  \n",
    "  \n",
    "- **Balanced Accuracy (BACC):** Both Random Forest and Decision Tree have similar balanced accuracy scores (0.77), showing they manage the trade-off between sensitivity and specificity. Although 1D ConvNet has a lower BACC, its performance could still be improved with further tuning.  \n",
    "  \n",
    "- **True Skill Statistic (TSS) and Heidke Skill Score (HSS):** Random Forest has slightly higher TSS (0.53) and HSS (0.62), indicating that it better captures the model's performance in correctly identifying positive and negative instances.  \n",
    "  \n",
    "- **Brier Score (BS):** Random Forest has the lowest Brier Score (0.07), which suggests that its predicted probabilities are closest to the actual outcomes.  \n",
    "  \n",
    "- **Area Under the Curve (AUC):** Random Forest has the highest AUC (0.93), demonstrating the best ability to distinguish between positive and negative classes. A high AUC is particularly valuable in this imbalanced dataset, as it indicates robust discriminatory power.\n",
    "\n",
    "## Best model for the dataset\n",
    "Based on these evaluations, Random Forest emerges as the best model for this dataset due to its overall superior performance across critical metrics, particularly in handling false positives, maintaining high true negative rate, and achieving high AUC and balanced accuracy. Random Forest's resilience to multicollinearity further solidifies its reliability.  \n",
    "  \n",
    "However, if interpretability is essential, Decision Tree may offer some advantages due to its simpler structure, despite lower performance metrics. Meanwhile, Conv1D could potentially be improved with further tuning but currently shows less favorable results for this dataset."
   ]
  },
  {
   "cell_type": "code",
   "execution_count": null,
   "metadata": {},
   "outputs": [],
   "source": []
  }
 ],
 "metadata": {
  "colab": {
   "authorship_tag": "ABX9TyM5cJdd0ZJIGtGvheEd5r41",
   "include_colab_link": true,
   "provenance": []
  },
  "kernelspec": {
   "display_name": "Python 3 (ipykernel)",
   "language": "python",
   "name": "python3"
  },
  "language_info": {
   "codemirror_mode": {
    "name": "ipython",
    "version": 3
   },
   "file_extension": ".py",
   "mimetype": "text/x-python",
   "name": "python",
   "nbconvert_exporter": "python",
   "pygments_lexer": "ipython3",
   "version": "3.12.7"
  }
 },
 "nbformat": 4,
 "nbformat_minor": 4
}
